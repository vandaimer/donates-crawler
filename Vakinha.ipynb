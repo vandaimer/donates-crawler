{
 "cells": [
  {
   "cell_type": "markdown",
   "metadata": {},
   "source": [
    "# Objetivo deste projeto\n",
    "\n",
    "- Ajudar pessoas através das vakinhas do site (vakinha.com.br)\n",
    "\n",
    "\n",
    "# Como?\n",
    "\n",
    "Escolher uma vakinha é dificil, pois julgar quem pode ser beneficiado primeiro entre **a saúde de um animal**, **a saúde de um ser humano** ou **o sonho de vida de alguém** tem muitas variáveis envolvidas. Pensando nisso, resolvi fazer a seguite análise.\n",
    "\n",
    "- Pegar todas as vakinhas cadastradas que ainda não atingiram o seu objetivo\n",
    "- Calcular o indicadores de **PA e PN**\n",
    "\n",
    "---\n",
    "\n",
    "- PA é a porcentagem do objetivo já foi alcançado\n",
    "- PN é o número de pessoas que ainda são necessárias para alcançar o objetivo\n",
    "\n",
    "A ideia dos indicadores é **encontra a vakinha que está prestes a ser finalizada**, ou seja, **está chegando no seu objetivo** independente do que ela se trata.\n",
    "\n",
    "Na lista final você ordenar por\n",
    "\n",
    "- PA, então verá vakinhas que estão chegando ao seu objeto, seu PA está perto de 100%, mas que para chegar em 100% pode ser precisar de muitas pessoas doando. (admitindo o valor mínimo de doação).\n",
    "- PN, você verá vakinhas que estão chegando ao seu objetivo, seu PN está próximo de 1, e seu PA não tem relevancia.\n",
    "\n",
    "Sendo assim, na minha visão, é melhor ordenar por PN, ao invés de PA.\n",
    "\n",
    "Segue um exemplo para ficar claro.\n",
    "\n",
    "**Vakinha 1**: PA = 96.25 e PN = 6\n",
    "\n",
    "**Vakinha 2**: PA = 85 e PN = 3\n",
    "\n",
    "Se 3 pessoas ajudar com a **Vakinha 2**, ela será concluida, mesmo seu PA sendo **85%** (85% já concluida), já para a **Vakinha 1** é preciso 6 pessoas, mas seu PA é **96.25** (96.25% já concluida).\n",
    "\n",
    "\n",
    "## Então, ordene por PN (number_of_people) e ajude muitas pessoas, animais e quem precisar :)"
   ]
  },
  {
   "cell_type": "code",
   "execution_count": 176,
   "metadata": {},
   "outputs": [],
   "source": [
    "import glob\n",
    "import math\n",
    "import pandas as pd\n",
    "import world_bank_data as wb\n",
    "\n",
    "%matplotlib inline\n",
    "MINIMUM_DONATE = 25\n",
    "\n",
    "file_list = glob.glob('src/vakinha*.json')\n",
    "file_list.sort(reverse = True)\n",
    "\n",
    "df = pd.read_json(file_list[0])"
   ]
  },
  {
   "cell_type": "markdown",
   "metadata": {},
   "source": [
    "# Number of vakinhas before clean the data"
   ]
  },
  {
   "cell_type": "code",
   "execution_count": 177,
   "metadata": {},
   "outputs": [
    {
     "data": {
      "text/plain": [
       "484"
      ]
     },
     "execution_count": 177,
     "metadata": {},
     "output_type": "execute_result"
    }
   ],
   "source": [
    "len(df)"
   ]
  },
  {
   "cell_type": "code",
   "execution_count": 178,
   "metadata": {},
   "outputs": [],
   "source": [
    "def clean_price_data(value):\n",
    "    value = value.replace(',00', '')\n",
    "    value = value.replace('R$', '')\n",
    "    value = value.replace('.', '')\n",
    "    value = value.replace(',', '.')\n",
    "    return float(value)\n",
    "\n",
    "df['collected'] = df['collected'].apply(lambda value: clean_price_data(value))\n",
    "df['goal'] = df['goal'].apply(lambda value: clean_price_data(value))\n",
    "df['different'] = df.apply(lambda row: row.goal - row.collected, axis=1)\n",
    "df['percentage_goal'] = df.apply(lambda row: ((row.collected * 100) / row.goal), axis=1)\n",
    "df['number_of_people'] = df.apply(lambda row: math.ceil(row.different / MINIMUM_DONATE), axis=1)"
   ]
  },
  {
   "cell_type": "markdown",
   "metadata": {},
   "source": [
    "# Filter just some important columns"
   ]
  },
  {
   "cell_type": "code",
   "execution_count": 179,
   "metadata": {},
   "outputs": [],
   "source": [
    "df = df.filter(items=['title', 'link', 'percentage_goal', 'number_of_people'])"
   ]
  },
  {
   "cell_type": "markdown",
   "metadata": {},
   "source": [
    "# Filter vakinhas that did not reach the goal"
   ]
  },
  {
   "cell_type": "code",
   "execution_count": 180,
   "metadata": {},
   "outputs": [
    {
     "data": {
      "text/plain": [
       "461"
      ]
     },
     "execution_count": 180,
     "metadata": {},
     "output_type": "execute_result"
    }
   ],
   "source": [
    "df = df[df.percentage_goal < 100]\n",
    "len(df)"
   ]
  },
  {
   "cell_type": "markdown",
   "metadata": {},
   "source": [
    "# Show the vakinha list"
   ]
  },
  {
   "cell_type": "markdown",
   "metadata": {},
   "source": [
    "Now you can order by `percentage goal` or by `number_of_people`."
   ]
  },
  {
   "cell_type": "markdown",
   "metadata": {},
   "source": [
    "They don't heva different, just it's a preference between `percentage goal` or by `number_of_people`."
   ]
  },
  {
   "cell_type": "markdown",
   "metadata": {},
   "source": [
    "The main goal of this project is choose a vakinha that does not need to many people to reach the goal or in other words, the percentage goal is almost 100%."
   ]
  },
  {
   "cell_type": "code",
   "execution_count": 181,
   "metadata": {},
   "outputs": [
    {
     "data": {
      "text/html": [
       "<div><table id=\"3bdccb6e-67b4-4e42-b6b6-e211076915a2\" class=\"display\"><thead>\n",
       "    <tr style=\"text-align: right;\">\n",
       "      <th></th>\n",
       "      <th>title</th>\n",
       "      <th>link</th>\n",
       "      <th>percentage_goal</th>\n",
       "      <th>number_of_people</th>\n",
       "    </tr>\n",
       "  </thead></table>\n",
       "<script type=\"text/javascript\">\n",
       "require([\"datatables\"], function (datatables) {\n",
       "    $(document).ready(function () {\n",
       "        function eval_functions(map_or_text) {\n",
       "            if (typeof map_or_text === \"string\") {\n",
       "                if (map_or_text.startsWith(\"function\")) {\n",
       "                    try {\n",
       "                        // Note: parenthesis are required around the whole expression for eval to return a value!\n",
       "                        // See https://stackoverflow.com/a/7399078/911298.\n",
       "                        //\n",
       "                        // eval(\"local_fun = \" + map_or_text) would fail because local_fun is not declared\n",
       "                        // (using var, let or const would work, but it would only be declared in the local scope\n",
       "                        // and therefore the value could not be retrieved).\n",
       "                        const func = eval(`(${map_or_text})`);\n",
       "                        if (typeof func !== \"function\") {\n",
       "                            // Note: backquotes are super convenient! \n",
       "                            // https://developer.mozilla.org/en-US/docs/Web/JavaScript/Reference/Template_literals\n",
       "                            console.error(\n",
       "                                `Evaluated expression \"${map_or_text}\" is not a function (type is ${typeof func})`\n",
       "                            );\n",
       "                            return map_or_text;\n",
       "                        }\n",
       "                        // Return the function        \n",
       "                        return func;\n",
       "                    } catch (e) {\n",
       "                        // Make sure to print the error with a second argument to console.error().\n",
       "                        console.error(`itables was not able to parse \"${map_or_text}\"`, e);\n",
       "                    }\n",
       "                }\n",
       "            } else if (typeof map_or_text === \"object\") {\n",
       "                if (map_or_text instanceof Array) {\n",
       "                    // Note: \"var\" is now superseded by \"let\" and \"const\".\n",
       "                    // https://medium.com/javascript-scene/javascript-es6-var-let-or-const-ba58b8dcde75\n",
       "                    const result = [];\n",
       "                    // Note: \"for of\" is the best way to iterate through an iterable.\n",
       "                    // https://developer.mozilla.org/en-US/docs/Web/JavaScript/Reference/Statements/for...of\n",
       "                    for (const item of map_or_text) {\n",
       "                        result.push(eval_functions(item));\n",
       "                    }\n",
       "                    return result;\n",
       "\n",
       "                    // Alternatively, more functional approach in one line:\n",
       "                    // return map_or_text.map(eval_functions);\n",
       "                } else {\n",
       "                    const result = {};\n",
       "                    // Object.keys() is safer than \"for in\" because otherwise you might have keys\n",
       "                    // that aren't defined in the object itself.\n",
       "                    //\n",
       "                    // See https://stackoverflow.com/a/684692/911298.\n",
       "                    for (const item of Object.keys(map_or_text)) {\n",
       "                        result[item] = eval_functions(map_or_text[item]);\n",
       "                    }\n",
       "                    return result;\n",
       "                }\n",
       "            }\n",
       "\n",
       "            return map_or_text;\n",
       "        }\n",
       "        var dt_args = {\"data\": [[0, \"Vaquinha Para O Tratamen...\", \"http://vaka.me/674387\", 2.8, 389], [1, \"Ajuda Para Moradia (Viol...\", \"http://vaka.me/673926\", 21.5, 63], [2, \"Ajude Na Cirurgia Do Gat...\", \"http://vaka.me/673951\", 13.846154, 45], [3, \"Casa Da Sra. Loiva De Ol...\", \"http://vaka.me/673897\", 1.4, 986], [4, \"Campanha Gean Em Madrid\", \"http://vaka.me/673829\", 4.352941, 326], [5, \"Cadeira Do Ismael \", \"http://vaka.me/673847\", 23.828279, 155], [6, \"Ajude Dr F\\u00e1bio\", \"http://vaka.me/673848\", 28.0, 144], [7, \"Salvem Meu Bichinho\", \"http://vaka.me/673838\", 30.0, 14], [8, \"Ajuda A Igreja Icer Jard...\", \"http://vaka.me/673961\", 6.825, 746], [9, \"Vamos Ajudar O Denis\", \"http://vaka.me/673904\", 0.875, 2379], [10, \"Gatinho Atropelado Sangr...\", \"http://vaka.me/673976\", 3.712871, 78], [11, \"Rumo Ao Jap\\u00e3o 2019\", \"http://vaka.me/674032\", 6.666667, 112], [12, \"Me Ajude Comprar Meu Rem...\", \"http://vaka.me/674077\", 35.555556, 12], [13, \"Me Ajudem A Pagar O Mercado\", \"http://vaka.me/674107\", 61.0, 8], [14, \"Trig\\u00eameos Maquinhos E Da...\", \"http://vaka.me/674089\", 4.0, 1152], [15, \"Para Salvar Uma Vida De ...\", \"http://vaka.me/673139\", 15.666667, 102], [16, \"Me Ajudem A Formar Em Me...\", \"http://vaka.me/673183\", 0.18, 3993], [17, \"Benjamin O Gato Que N\\u00e3o ...\", \"http://vaka.me/673154\", 24.625, 121], [18, \"Ajude Os Meninos Do Tost\\u00c3o\", \"http://vaka.me/673169\", 1.875, 314], [19, \"Primeiro Ep+V\\u00eddeoclipes ...\", \"http://vaka.me/673882\", 4.3, 766], [20, \"Todos Pela Rebeca\\u2665\\ufe0f\", \"http://vaka.me/673132\", 15.353333, 508], [21, \"Juliano Serralheiro\", \"http://vaka.me/673188\", 63.093333, 443], [22, \"Ajude A Jamds A Manter S...\", \"http://vaka.me/673203\", 3.5, 116], [23, \"Gurizada De Santa Vit\\u00f3ri...\", \"http://vaka.me/673236\", 3.777778, 693], [24, \"Um Novo Celular Para O Cris\", \"http://vaka.me/673209\", 16.666667, 50], [25, \"Kombi Para Fazenda Recon...\", \"http://vaka.me/673273\", 1.5, 1182], [26, \"Vaquinha Maria Do Socorr...\", \"http://vaka.me/673290\", 35.5, 26], [27, \"Precisamos De Ajuda Para...\", \"http://vaka.me/673276\", 12.1, 176], [28, \"Ajude A Neuza Gon\\u00e7alves ...\", \"http://vaka.me/673311\", 0.833333, 476], [29, \"Todos Por Maria Vit\\u00f3ria\", \"http://vaka.me/673343\", 3.125, 310], [30, \"Compra De Ar Condicionad...\", \"http://vaka.me/673403\", 1.346154, 513], [31, \"Ajuda A Pretinha \", \"http://vaka.me/673407\", 10.0, 36], [32, \"Ajude O Yan A Respirar M...\", \"http://vaka.me/673410\", 6.578947, 142], [33, \"Um Lugar Pra Morar   Bru...\", \"http://vaka.me/673442\", 2.0, 196], [35, \"Ajude Meus Cachorros A S...\", \"http://vaka.me/673303\", 0.90625, 635], [36, \"Manu No Livorno In Danza...\", \"http://vaka.me/673385\", 4.0, 576], [37, \"Salvem O Pedro Miau\", \"http://vaka.me/673463\", 30.5, 28], [38, \"Gatinho Picol\\u00e9\", \"http://vaka.me/673453\", 6.333333, 113], [39, \"Ajudem O Ghabriel A Dan\\u00e7...\", \"http://vaka.me/673361\", 8.0, 129], [40, \"Cirurgia Ortop\\u00e9dica Do P...\", \"http://vaka.me/673469\", 14.285714, 39], [41, \"Ajude O Adotado\", \"http://vaka.me/673383\", 2.142857, 137], [42, \"Cpap Pra Nosso Amigo Ig\", \"http://vaka.me/673471\", 3.75, 154], [43, \"Arrecada\\u00e7\\u00e3o Inc\\u00eandio\", \"http://vaka.me/673480\", 3.568421, 3665], [44, \"Tratamento Do Chumbinho\", \"http://vaka.me/673492\", 72.5, 7], [45, \"Medica\\u00e7\\u00e3o Micofenolato\", \"http://vaka.me/673515\", 25.925926, 40], [46, \"Ajude O Topper (Gatinho ...\", \"http://vaka.me/673543\", 14.0, 138], [47, \"Ajude A Toria (Vitoria)\", \"http://vaka.me/673565\", 81.818182, 5], [48, \"Ajudando Meu Sonho \", \"http://vaka.me/673582\", 1.5625, 315], [49, \"Rodrigo   Esclerose Amio...\", \"http://vaka.me/673588\", 3.12528, 2362], [50, \"K\\u00c9zia Gift Show\", \"http://vaka.me/673591\", 25.5, 60], [51, \"Ajude No Transplante Do ...\", \"http://vaka.me/673643\", 1.0, 594], [52, \"Um Celular Para A Micha\", \"http://vaka.me/673676\", 60.0, 16], [53, \"Ajude O Alexandre\", \"http://vaka.me/673733\", 33.466667, 400], [54, \"Ajude O Luke A Andar\", \"http://vaka.me/673104\", 77.55102, 3], [55, \"Olhar Com O Cora\\u00e7\\u00e3o\", \"http://vaka.me/672422\", 0.371429, 2790], [56, \"Meu Caminh\\u00c3o Meu Ganha P\\u00c3o\", \"http://vaka.me/672448\", 0.3, 2792], [57, \"Cirurgia Lucy\", \"http://vaka.me/672001\", 16.666667, 40], [58, \"Juntos Pela Paulinha!! \\u2764\\ufe0f\", \"http://vaka.me/672081\", 19.4, 162], [59, \"Amigo Kaeda \", \"http://vaka.me/672059\", 3.3, 194], [60, \"Unidos Pela Mayah\", \"http://vaka.me/673725\", 20.0, 16], [61, \"Salvem O Woody\", \"http://vaka.me/672117\", 81.420765, 7], [62, \"Ajude Um Viajante\", \"http://vaka.me/672142\", 43.75, 27], [63, \"Videoclipe \\\"Sou Eu\\\"\", \"http://vaka.me/672149\", 17.0, 17], [64, \"Ajude A Dona Rita\", \"http://vaka.me/672153\", 1.433333, 592], [65, \"Resgate Do Doguinho\", \"http://vaka.me/672157\", 9.166667, 109], [66, \"Cheia Em Jardim Atl\\u00e2ntico\", \"http://vaka.me/672162\", 1.55, 394], [67, \"Ajude A Fam\\u00edlia Da Talit...\", \"http://vaka.me/672167\", 29.1, 142], [68, \"Ajude A Mana\", \"http://vaka.me/672169\", 6.0, 94], [69, \"Crian\\u00e7as Da Invas\\u00e3o \", \"http://vaka.me/672224\", 4.0, 384], [70, \"Miguel Fernando   Judoca\", \"http://vaka.me/672240\", 11.666667, 64], [71, \"Maquina De Lavar Lar Bet...\", \"http://vaka.me/672238\", 6.842105, 71], [72, \"Me Ajude A Participar Do...\", \"http://vaka.me/672274\", 8.947368, 70], [73, \"Na Frequencia Da Arte\", \"http://vaka.me/672279\", 6.666667, 112], [74, \"Ajude O Chico! \", \"http://vaka.me/672297\", 99.621212, 1], [75, \"Cama Hospitalar Para Idosas\", \"http://vaka.me/672339\", 17.5, 27], [76, \"Despesas M\\u00e9dicas\", \"http://vaka.me/672315\", 18.1, 164], [77, \"Ajudar Um Anjo Chamado A...\", \"http://vaka.me/672412\", 6.416667, 450], [78, \"Vendas\", \"http://vaka.me/672477\", 23.0, 16], [79, \"Est\\u00fadio De Dan\\u00e7a.\", \"http://vaka.me/672488\", 8.0, 184], [80, \"Todos Pelo Enzo\", \"http://vaka.me/672495\", 0.14, 19972], [81, \"Exames E Rem\\u00e9dios\", \"http://vaka.me/672121\", 35.714286, 18], [82, \"Ajuda Para A Faculdade \", \"http://vaka.me/672570\", 41.0, 48], [83, \"Anna E Jo\\u00c3o Pastega Na S...\", \"http://vaka.me/672572\", 8.75, 73], [84, \"Projeto Social Os Chilen...\", \"http://vaka.me/672317\", 6.25, 75], [85, \"Quanto Vale A Vida Da Su...\", \"http://vaka.me/672359\", 4.625, 763], [86, \"Ajude O Luiz\", \"http://vaka.me/672519\", 3.55, 386], [87, \"A Viagem Dos Sonhos!\", \"http://vaka.me/672575\", 2.7, 195], [88, \"Partiu Haiti\", \"http://vaka.me/672534\", 3.333333, 290], [89, \"Trazendo O G\\u00e1s Para O La...\", \"http://vaka.me/672578\", 8.163265, 360], [90, \"Campanha Kombi Nova\", \"http://vaka.me/672592\", 1.533333, 591], [91, \"Preciso De Uma Cadeira D...\", \"http://vaka.me/672596\", 4.766667, 572], [92, \"Tratamento Para Trombofi...\", \"http://vaka.me/672625\", 15.725806, 209], [93, \"C\\u00e3ozinho Bob Caramelo\", \"http://vaka.me/672637\", 48.648649, 8], [94, \"Minha M\\u00e3e Esta Com C\\u00e2nce...\", \"http://vaka.me/672641\", 21.125, 127], [96, \"Ajude O Yodo A Viver\", \"http://vaka.me/672664\", 33.5, 27], [97, \"11\\u00b0 Festival De Bandas D...\", \"http://vaka.me/672686\", 32.0, 55], [98, \"Ajude A Maria A Lutar Co...\", \"http://vaka.me/672725\", 10.633333, 537], [99, \"Cirurgia Renal Para Pitoco\", \"http://vaka.me/672750\", 33.0, 14], [100, \"Vamos Ajudar Nossa Amiga...\", \"http://vaka.me/672662\", 5.15, 1518], [101, \"A\\u00e7\\u00f5es Sociais M\\u00e1gicas Sp...\", \"http://vaka.me/671036\", 15.65, 68], [102, \"Ajudar Minha M\\u00e3e E Meu I...\", \"http://vaka.me/671091\", 12.666667, 53], [103, \"Passagem Para O Mundial ...\", \"http://vaka.me/671056\", 17.25, 133], [104, \"Arena Ta\\u00e7a Das Favelas\", \"http://vaka.me/671097\", 0.146, 19971], [105, \"Pr\\u00f3tese Para O Giovani\", \"http://vaka.me/671101\", 5.488889, 1702], [106, \"Mundial Surfski Em Quibe...\", \"http://vaka.me/671102\", 13.1, 174], [107, \"Nano The Cat\", \"http://vaka.me/671105\", 64.25, 29], [108, \"Mat\\u00e9riais Odontologicos\", \"http://vaka.me/671147\", 5.75, 377], [109, \"Todos Pela Manuella\", \"http://vaka.me/671150\", 55.6, 45], [110, \"Contribui\\u00c7\\u00c3o Solidaria A...\", \"http://vaka.me/671159\", 4.0, 384], [111, \"Grande Calebe\", \"http://vaka.me/671167\", 2.85, 389], [112, \"Ajude A J\\u00e9ssica Borges A...\", \"http://vaka.me/671170\", 6.892857, 522], [113, \"Ajude O Bidu\", \"http://vaka.me/671225\", 5.428571, 265], [114, \"Computador Intermedi\\u00e1rio...\", \"http://vaka.me/671212\", 11.833333, 106], [115, \"\\u00c1gua Para Fam\\u00edlia Da Cris\", \"http://vaka.me/671228\", 0.53125, 637], [116, \"Document\\u00e1rio Audiovisual...\", \"http://vaka.me/671247\", 13.636364, 114], [117, \"Ajudando Uma Fam\\u00edlia A V...\", \"http://vaka.me/671116\", 1.595439, 1468], [118, \"Ajuda Para Carlos Eduard...\", \"http://vaka.me/671248\", 1.9, 785], [119, \"Equipamentos E Alimenta\\u00e7...\", \"http://vaka.me/671253\", 24.0, 61], [120, \"Cirurgia Do Dodge\", \"http://vaka.me/671267\", 8.0, 92], [121, \"Vira Lata Atropelada\", \"http://vaka.me/671202\", 96.25, 6], [122, \"Est\\u00e1gio Na China \", \"http://vaka.me/671278\", 0.8, 992], [123, \"Comprar Cadeira De Rodas...\", \"http://vaka.me/671279\", 1.25, 632], [124, \"Ajuda \\u00e0 Policial Militar...\", \"http://vaka.me/671305\", 5.2, 380], [125, \"Arthur Miguel \", \"http://vaka.me/671364\", 5.833333, 113], [126, \"Maria Clara No Campeonat...\", \"http://vaka.me/671381\", 14.5, 137], [127, \"Ajude No Tratamento De M...\", \"http://vaka.me/670930\", 10.4, 180], [128, \"Ajude O Lorenzo A Ser Op...\", \"http://vaka.me/671383\", 15.882353, 29], [129, \"Cola\\u00c7\\u00c3o De Grau   Enf Un...\", \"http://vaka.me/671391\", 79.318182, 19], [130, \"Preciso De Uma Cadeira N...\", \"http://vaka.me/671410\", 11.85, 353], [131, \"Urgente  Ajudem A Lila\", \"http://vaka.me/671420\", 35.0, 21], [132, \" Projeto Ponte Verde Pro...\", \"http://vaka.me/671471\", 0.82, 992], [133, \"Welyngton Ferreira\", \"http://vaka.me/671475\", 17.380952, 70], [134, \"Ajuda A Guria (Ufrgs)\", \"http://vaka.me/671476\", 68.75, 6], [135, \"Um Lar Para Os Orfaos\", \"http://vaka.me/671485\", 2.016667, 1176], [137, \"Peruca Pra Carlinha\", \"http://vaka.me/671361\", 21.571429, 110], [138, \"Perdi Minha Casa...\", \"http://vaka.me/671314\", 9.8, 722], [139, \"Daiane \\u00e9 Tetrapl\\u00e9gica E ...\", \"http://vaka.me/671502\", 1.25, 790], [140, \"Nicolle Agatha\", \"http://vaka.me/671507\", 2.769231, 253], [141, \"Amazonas Para Cristo   C...\", \"http://vaka.me/671284\", 2.888889, 1748], [142, \"Lentes Para Tratamento D...\", \"http://vaka.me/671549\", 5.5, 378], [143, \"Tratamento Veterin\\u00e1rio D...\", \"http://vaka.me/671583\", 5.5, 189], [144, \"Formatura Veterin\\u00e1ria Ja...\", \"http://vaka.me/670151\", 14.285714, 48], [145, \"Cadeira De Rodas Para Juju\", \"http://vaka.me/670160\", 35.142857, 91], [146, \"Aprovada Para Medicina N...\", \"http://vaka.me/670182\", 1.375, 789], [147, \"Ajude O Fred A Voltar A ...\", \"http://vaka.me/670188\", 4.857143, 134], [148, \"Ajude A Pagar A Cirurgia...\", \"http://vaka.me/670195\", 27.8125, 47], [149, \"Amputa\\u00e7\\u00e3o Do Beto\", \"http://vaka.me/670221\", 61.666667, 5], [150, \"Recuperar O Carro Da Paty\", \"http://vaka.me/670239\", 41.875, 19], [151, \"Ajude O Pitter\", \"http://vaka.me/670249\", 2.1, 196], [152, \"Tha\\u00eds Maduro No Sul Amer...\", \"http://vaka.me/670263\", 25.714286, 104], [153, \"Ajude A Isis \", \"http://vaka.me/670266\", 53.166667, 57], [154, \"\\u201cAjuda Para O Roger\\u201d\", \"http://vaka.me/670307\", 0.757353, 2700], [155, \"Ajude O Genilson A Retir...\", \"http://vaka.me/671548\", 0.65, 795], [156, \"Ajude Na Recupera\\u00e7\\u00e3o Do ...\", \"http://vaka.me/670362\", 24.545455, 34], [157, \"Ajude A Salvar Minha Gat...\", \"http://vaka.me/670370\", 65.217391, 7], [158, \"Laringe Eletr\\u00f4nica\", \"http://vaka.me/670410\", 9.210526, 69], [159, \"Tradu\\u00e7\\u00e3o Da Tese Da Mar\\u00ed...\", \"http://vaka.me/670403\", 1.3125, 316], [160, \"Ajude Gladistom Ferreira...\", \"http://vaka.me/670449\", 4.0, 384], [161, \"Ajuda Para Pagar A Agua\", \"http://vaka.me/670459\", 15.5, 34], [162, \"Rampa De Acesso E Banheiro \", \"http://vaka.me/670488\", 7.48, 926], [163, \"Vakinha Pra Minina\", \"http://vaka.me/670491\", 26.2, 74], [164, \"91 Zc Continues To Give ...\", \"http://vaka.me/670496\", 26.25, 118], [165, \"Ajude A Salvar O Fredy\", \"http://vaka.me/670497\", 12.692308, 91], [167, \"Ajuda Para Dois Gatos Be...\", \"http://vaka.me/670515\", 43.0, 23], [168, \"Comprar O Implante Cocle...\", \"http://vaka.me/670512\", 31.25, 55], [169, \"Todos Pelo Breno\", \"http://vaka.me/670529\", 0.316571, 27912], [170, \"Ajude O Marquinhos\", \"http://vaka.me/670532\", 0.546864, 5274], [171, \"Caso De Doen\\u00e7a\", \"http://vaka.me/670537\", 16.25, 67], [172, \"D\\u00e9bora De Azevedo Prata\", \"http://vaka.me/670564\", 4.285714, 134], [173, \"Sos Simba\", \"http://vaka.me/670589\", 15.0, 102], [174, \"Marginal Br 277 Km 583\", \"http://vaka.me/670590\", 75.9375, 308], [177, \"Arrecada\\u00e7\\u00e3o De Materiais \", \"http://vaka.me/670518\", 30.0, 28], [178, \"Venezuela Em Fotos\", \"http://vaka.me/670602\", 4.333333, 115], [179, \"Ajude O Felipe\", \"http://vaka.me/670611\", 55.15, 36], [180, \"Todos Pela Cura Da Renata\", \"http://vaka.me/670613\", 18.21, 1636], [181, \"For\\u00e7a Maia\", \"http://vaka.me/670640\", 5.25, 379], [182, \"Concluir Os Estudos\", \"http://vaka.me/670626\", 1.833333, 589], [183, \"Ajudem A Dani\", \"http://vaka.me/670662\", 35.0, 13], [184, \"Pagar O Aluguel Do Uber\", \"http://vaka.me/670575\", 53.2, 47], [185, \"Marianne  Luta Pela Vida...\", \"http://vaka.me/670673\", 5.95625, 9029], [186, \"Vakinha Da Mazikeen\", \"http://vaka.me/670688\", 5.25, 76], [187, \"S\\u00e9rgio Souza \", \"http://vaka.me/670716\", 2.0, 784], [188, \"Reconstru\\u00e7\\u00e3o Para Meda W...\", \"http://vaka.me/670729\", 7.55, 1110], [189, \"Ajude A Ju Se Formar \", \"http://vaka.me/670782\", 9.833333, 433], [191, \"Livro De Ouro Formatura ...\", \"http://vaka.me/669401\", 32.5, 27], [192, \"York Idosa \", \"http://vaka.me/669404\", 37.5, 10], [193, \"Pista De Slide   Curitiba \", \"http://vaka.me/670635\", 3.333333, 116], [194, \"Cuidados De Fred\", \"http://vaka.me/669426\", 17.75, 66], [195, \"\\\" Ajudem Lupita \\\" \", \"http://vaka.me/669427\", 10.0, 72], [196, \"Vamos Ajudar Sr Paulo!!\", \"http://vaka.me/670646\", 25.490196, 228], [197, \"Base Do Projeto Mission\\u00e1...\", \"http://vaka.me/670653\", 35.0, 26], [198, \"Princesa E Tinho\", \"http://vaka.me/669437\", 28.0, 29], [199, \"Ajuda Para Spike\", \"http://vaka.me/669444\", 27.611111, 261], [200, \"Compra De Uma Touca Para...\", \"http://vaka.me/669443\", 30.0, 56], [201, \"Anivers\\u00e1rio Vov\\u00f3\", \"http://vaka.me/669433\", 41.428571, 28], [202, \"Quita\\u00e7\\u00e3o De D\\u00edvidas Foci...\", \"http://vaka.me/669498\", 11.0, 356], [203, \"Ajude O Rafinha!\", \"http://vaka.me/669462\", 11.6, 354], [204, \" Na Luta Contra O C\\u00e2ncer...\", \"http://vaka.me/669509\", 4.512195, 783], [205, \"Vaquinha Para R\\u00e1dio Onda...\", \"http://vaka.me/669516\", 3.5, 386], [206, \"Ajude Meu Beb\\u00ea Andar\", \"http://vaka.me/669529\", 1.775, 786], [207, \"Ajuda Para Concertar Min...\", \"http://vaka.me/669555\", 9.128571, 255], [208, \"Ajude Alice\", \"http://vaka.me/669559\", 3.25, 387], [209, \"Lan\\u00e7amento Do Livro  \", \"http://vaka.me/669565\", 5.0, 190], [211, \"Cirurgia Ortop\\u00e9dica Para...\", \"http://vaka.me/669569\", 15.11194, 91], [212, \"Tratamento De Alopecia C...\", \"http://vaka.me/669598\", 2.636364, 857], [213, \"Ajude Na Reforma Da Nova...\", \"http://vaka.me/669599\", 2.03, 3919], [215, \"World Mathematics Team C...\", \"http://vaka.me/669557\", 1.666667, 472], [216, \"Projeto Jap\\u00e3o\", \"http://vaka.me/669636\", 21.0, 95], [217, \"Ajudemos A Aleska\", \"http://vaka.me/669637\", 74.1875, 83], [218, \"Por Favor Ajudem O Guilh...\", \"http://vaka.me/669638\", 13.636364, 38], [219, \"Ajudando A Vanessa\", \"http://vaka.me/669646\", 3.333333, 580], [220, \"Projeto  Gabi   Miss Plu...\", \"http://vaka.me/669639\", 12.850467, 75], [221, \"Um Sonho De Conectividade \", \"http://vaka.me/669558\", 6.333333, 113], [222, \"Projeto Jap\\u00e3o\", \"http://vaka.me/669666\", 9.166667, 109], [223, \"Pneus Novos Para Amai\", \"http://vaka.me/669692\", 16.0, 168], [224, \"Estou Precisando Muito D...\", \"http://vaka.me/669665\", 2.25, 391], [225, \"Ajude A Gatinha \", \"http://vaka.me/669698\", 70.0, 24], [226, \"Ra\\u00e7\\u00e3o Para Animais Aband...\", \"http://vaka.me/669699\", 6.0, 188], [227, \"Kaike Na Su\\u00e9cia!\", \"http://vaka.me/669708\", 3.666667, 578], [229, \"Brasileiro Sub 13   Mari...\", \"http://vaka.me/669719\", 19.492333, 97], [230, \"Ajudem A Marluana\", \"http://vaka.me/669723\", 30.325, 558], [231, \"Kira Pede Sua Ajuda!\", \"http://vaka.me/669781\", 50.555556, 36], [232, \"Por Que N\\u00c3o Do Meu Jeito...\", \"http://vaka.me/669785\", 2.833333, 117], [233, \"Protese Transtibial Para...\", \"http://vaka.me/669777\", 1.052632, 752], [234, \"Rem\\u00e9dio Para O Pretinho\", \"http://vaka.me/669837\", 40.625, 19], [235, \"Festa De Er\\u00ca Da Tenda Es...\", \"http://vaka.me/669842\", 2.533333, 585], [236, \"Nos Ajudem A Comprar Nos...\", \"http://vaka.me/669846\", 15.5, 34], [237, \"Em Busca De Ajuda Para M...\", \"http://vaka.me/669677\", 0.173913, 9184], [238, \"Ajude A Amelie \", \"http://vaka.me/669872\", 95.0, 1], [239, \"Pr\\u00f3tese Para Perna Marce...\", \"http://vaka.me/669799\", 5.45, 1135], [240, \"Pr\\u00f3teses Para Bia\", \"http://vaka.me/669399\", 0.851667, 11898], [241, \"Cadeira De Rodas Motoriz...\", \"http://vaka.me/669786\", 3.061224, 380], [242, \"Me Ajudem A Ajudar Os Me...\", \"http://vaka.me/668370\", 2.361111, 282], [243, \"Ajude O Anjos De Focinho \", \"http://vaka.me/668418\", 22.891667, 371], [244, \"Todos Em Ajuda Do Cris(N...\", \"http://vaka.me/668473\", 22.65, 619], [245, \"Reabrir A Yuca\", \"http://vaka.me/669878\", 51.666667, 24], [246, \"Um Lar Para O Alvino\", \"http://vaka.me/668493\", 24.318625, 485], [247, \"Ajude Jos\\u00e9 A Continuar E...\", \"http://vaka.me/668515\", 12.0, 352], [248, \"Vamos Ajudar A Realizar ...\", \"http://vaka.me/668581\", 3.6, 386], [249, \"Lully Precisa Operar\", \"http://vaka.me/668589\", 7.666667, 56], [250, \"Ajuda De Custo Para Estudo\", \"http://vaka.me/668604\", 21.646341, 257], [251, \"Aben\\u00e7oando Minha V\\u00f3zinha\", \"http://vaka.me/668598\", 1.225, 791], [252, \"Rematr\\u00edcula Da Faculdade \", \"http://vaka.me/668626\", 50.980392, 10], [253, \"Castra\\u00e7\\u00e3o Jade Infec\\u00e7\\u00e3o ...\", \"http://vaka.me/668638\", 93.333333, 2], [255, \"Quita\\u00c7\\u00c3o De D\\u00cdvidas Vete...\", \"http://vaka.me/668641\", 13.283333, 1041], [256, \"Augusto\", \"http://vaka.me/668660\", 25.0, 24], [258, \"Me Ajude A Formar!\", \"http://vaka.me/668671\", 27.515789, 2755], [259, \"Fa\\u00e7a Acontecer O Festiva...\", \"http://vaka.me/668704\", 5.1, 190], [260, \"Fa\\u00e7a Sua Parte, Os Adole...\", \"http://vaka.me/668534\", 11.7, 354], [261, \"Solidariedade Com O Prof...\", \"http://vaka.me/668717\", 61.5, 308], [262, \"Ajude Luis Guilherme A E...\", \"http://vaka.me/668780\", 4.5, 115], [263, \"Cirurgia Do Seu Valdemar\", \"http://vaka.me/668836\", 2.7, 390], [264, \"Arrecada\\u00e7\\u00e3o Para Cuidado...\", \"http://vaka.me/668790\", 0.491023, 19496], [265, \"Procuro Servi\\u00c7os\", \"http://vaka.me/668347\", 0.25, 1197], [266, \"Para Realizar Um Sonho\", \"http://vaka.me/668891\", 0.5, 597], [269, \"Theo Com Cinomose \", \"http://vaka.me/668923\", 5.833333, 113], [270, \"Anivers\\u00e1rio, Casamento E...\", \"http://vaka.me/668956\", 1.6, 197], [271, \"Ocupa\\u00e7\\u00e3o Ov\\u00e1rias   Quart...\", \"http://vaka.me/668845\", 7.8, 185], [272, \"Enxoval Do Kael\", \"http://vaka.me/668848\", 30.0, 28], [273, \"Vaquinha Para Meg E Seus...\", \"http://vaka.me/668886\", 13.5, 70], [274, \"Moto Furtada \", \"http://vaka.me/668812\", 1.55, 394], [275, \"Ajuda!!!\", \"http://vaka.me/668896\", 8.75, 73], [276, \"Ajudar O Professor Marcos\", \"http://vaka.me/669027\", 28.8, 285], [277, \"Amputa\\u00e7\\u00e3o De Perna De Um...\", \"http://vaka.me/668954\", 20.9, 159], [278, \"Cirurgia Da Lili    Irid...\", \"http://vaka.me/669036\", 61.676647, 26], [279, \"Ajuda Para O Nick\", \"http://vaka.me/668980\", 28.75, 57], [280, \"Projeto Vem Com A Gente,...\", \"http://vaka.me/669053\", 0.6, 3579], [281, \"Ajude A Luna\", \"http://vaka.me/667666\", 11.0, 89], [282, \"Vamos Ajudar O Chico\", \"http://vaka.me/667675\", 15.333333, 51], [283, \"Motociclistas Solid\\u00e1rios\", \"http://vaka.me/667682\", 47.928571, 146], [284, \"Todos Pelo J\\u00dalio\", \"http://vaka.me/667693\", 7.0, 372], [285, \"Todos Com Marcos\", \"http://vaka.me/667750\", 11.8, 177], [286, \"Ajude Este Sr A Voltar P...\", \"http://vaka.me/668986\", 5.375, 455], [287, \"Ajude O Garoto\", \"http://vaka.me/667754\", 14.5, 69], [288, \"Vamos Ajudar A Lyara??\", \"http://vaka.me/667745\", 55.0, 18], [289, \"Curso De Culin\\u00e1ria (Le C...\", \"http://vaka.me/667761\", 0.748588, 5622], [290, \"Chapa 2 Reconstru\\u00e7\\u00e3o, Pr...\", \"http://vaka.me/667785\", 1.071429, 831], [291, \"Ajudando A Artista Maria...\", \"http://vaka.me/667763\", 12.833333, 105], [292, \"Ajude A Fam\\u00edlia Guterres\", \"http://vaka.me/667783\", 3.9, 577], [293, \"Cirurgia \", \"http://vaka.me/667678\", 53.75, 52], [294, \"Rifa Solid\\u00e1ria 1\", \"http://vaka.me/667798\", 7.7, 37], [295, \"Cirurgia De Amputa\\u00e7\\u00e3o \", \"http://vaka.me/667684\", 5.5, 189], [296, \"Cirurgia Da Zez\\u00e9\", \"http://vaka.me/667787\", 36.8, 127], [297, \"Juntos Pela Samantha\", \"http://vaka.me/667803\", 3.125, 155], [298, \"Ajude O Simba\", \"http://vaka.me/667826\", 58.0, 26], [299, \"Todos Pelo Manoel .\", \"http://vaka.me/667810\", 2.13, 1958], [300, \"Ajude A Reconstru\\u00e7\\u00e3o Do ...\", \"http://vaka.me/667827\", 0.2, 1996], [301, \"Ajude O Grupo De Dan\\u00e7a D...\", \"http://vaka.me/667838\", 8.944444, 328], [302, \"Projeto Taquinhos\", \"http://vaka.me/667856\", 48.333333, 50], [303, \"Ajude A Formar Um Atleta\", \"http://vaka.me/667873\", 8.666667, 110], [304, \"Apoio A Atletas Surdos D...\", \"http://vaka.me/667881\", 40.0, 36], [305, \"Uma V\\u00e1lvula Para Bernarda\", \"http://vaka.me/667888\", 54.416667, 219], [306, \"Participa\\u00e7\\u00e3o De Jovens C...\", \"http://vaka.me/667908\", 14.6875, 273], [307, \"Ajuda Pro King Ficar Bem...\", \"http://vaka.me/667845\", 12.05, 352], [308, \"Ajude Algu\\u00e9m Com Leucemia\", \"http://vaka.me/667876\", 16.0, 336], [309, \"Ajude Minha M\\u00e3e\", \"http://vaka.me/667934\", 9.375, 29], [310, \"Preciso De Ajuda Para Um...\", \"http://vaka.me/667942\", 0.72, 993], [311, \"Circuito Brasileiro Em S...\", \"http://vaka.me/667948\", 34.5, 27], [312, \"Rifa Open Bar Canino\", \"http://vaka.me/667952\", 3.833333, 231], [313, \"Precisamos De Ajuda Para...\", \"http://vaka.me/668009\", 2.083333, 235], [314, \"Ajudem O Heitorzinho\", \"http://vaka.me/667962\", 93.75, 10], [315, \"Ajuda Solidaria\", \"http://vaka.me/668018\", 0.825, 794], [316, \"Dentista Para O Thiaguinho\", \"http://vaka.me/668034\", 94.875, 9], [317, \"Ajude A Financiar O Dap ...\", \"http://vaka.me/668036\", 3.5, 772], [318, \"Ajude A Blue\", \"http://vaka.me/668043\", 15.333333, 51], [319, \"Inc\\u00eandio Fam\\u00edlia Pellini\", \"http://vaka.me/668048\", 3.125, 310], [320, \"Exames Do Victor\", \"http://vaka.me/668052\", 51.666667, 58], [321, \"Rumo A Milset Mundo\", \"http://vaka.me/668054\", 2.857143, 272], [322, \"Viagem Da Manu A Argenti...\", \"http://vaka.me/668058\", 11.666667, 106], [323, \"Todos Pelo Gustavo\", \"http://vaka.me/668066\", 51.3, 98], [324, \"Reforma Do Quartinho\", \"http://vaka.me/667039\", 43.333333, 7], [325, \"Eu Tenho Um Sonho:  Mulh...\", \"http://vaka.me/666862\", 27.5, 58], [327, \"Uma Casa Para A Belinha\", \"http://vaka.me/666920\", 0.625, 3975], [328, \"Democratizar O Mundo Da ...\", \"http://vaka.me/666933\", 0.921053, 753], [329, \"Ajuda Para O Tratamento ...\", \"http://vaka.me/666960\", 14.0, 172], [330, \"Pr\\u00f3tese Ortop\\u00e9dica Trans...\", \"http://vaka.me/666972\", 1.95, 393], [331, \"Campeonato Brasileiro De...\", \"http://vaka.me/666977\", 31.0, 14], [332, \"Ajudem A Nina\", \"http://vaka.me/667012\", 7.466667, 278], [333, \"Ajuda No Tratamento Do M...\", \"http://vaka.me/667027\", 10.125, 288], [334, \"Ajuda, Exames Cora\\u00e7\\u00e3o E ...\", \"http://vaka.me/666855\", 4.2, 384], [335, \"Rifa Do Cau\\u00ea   Moto Hond...\", \"http://vaka.me/666873\", 18.1, 492], [336, \"Me Ajude A Apresentar Me...\", \"http://vaka.me/666900\", 14.4, 69], [337, \"Projeto Cor Alegre\", \"http://vaka.me/667029\", 1.125, 1582], [338, \"Ajude O Alfredo\", \"http://vaka.me/667037\", 55.0, 18], [339, \"Mundial De Trampolim Em ...\", \"http://vaka.me/666983\", 25.6, 149], [340, \"Interna\\u00e7\\u00e3o E Medicamento...\", \"http://vaka.me/667056\", 37.0, 38], [341, \"Salvem A Nina \\ud83d\\ude4f\", \"http://vaka.me/667007\", 15.0, 24], [342, \"Cirurgia Edu \", \"http://vaka.me/667066\", 18.375, 131], [343, \"Bailarinas De Floripa No...\", \"http://vaka.me/667070\", 0.333333, 1196], [344, \"Jc Demolidor Das Estradas\", \"http://vaka.me/667078\", 58.277778, 151], [345, \"Em Mem\\u00f3ria Do Gato Chalita\", \"http://vaka.me/667102\", 22.522523, 38], [346, \"Todos Pela Sophia Vit\\u00f3ria\", \"http://vaka.me/667111\", 3.416667, 464], [347, \"O Sonho De Ser M\\u00e3e \", \"http://vaka.me/667156\", 8.773585, 581], [348, \"#Partiu Portugal\", \"http://vaka.me/667214\", 30.0, 56], [349, \"Ajudar Minha Filha Valen...\", \"http://vaka.me/667216\", 3.833333, 116], [351, \"Centen\\u00e1rio De Martim Gon...\", \"http://vaka.me/667040\", 0.981308, 3391], [352, \"Pai E Filha V\\u00edtimas De I...\", \"http://vaka.me/667324\", 1.0, 594], [353, \"Etec Rumo A Su\\u00c9cia 2019 ...\", \"http://vaka.me/667053\", 1.25, 553], [354, \"Minha M\\u00e3e Est\\u00e1 Com Prola...\", \"http://vaka.me/667245\", 0.8, 397], [355, \"Passagem Do Yure\", \"http://vaka.me/667345\", 18.6, 82], [356, \"Treinador De Marcha\", \"http://vaka.me/667358\", 4.642857, 267], [357, \"Uma M\\u00e3ozinha Para Cal\\u00fazia\", \"http://vaka.me/667329\", 13.25, 417], [358, \"Cirurgia De Piometria Na...\", \"http://vaka.me/667364\", 5.666667, 114], [359, \"Preciso Me Mudar Com Urg...\", \"http://vaka.me/667365\", 18.957607, 95], [360, \"Ajude O Henry \", \"http://vaka.me/667367\", 17.301038, 96], [361, \"Cirurgia De Mand\\u00edbula Qu...\", \"http://vaka.me/667386\", 17.0, 67], [362, \"Lente De Contato Um Ato ...\", \"http://vaka.me/667360\", 9.428571, 127], [363, \"Andr\\u00c9 J\\u00danior,Luta Contra...\", \"http://vaka.me/667217\", 1.9375, 314], [364, \"Tchau, Khaleesi ):\", \"http://vaka.me/665806\", 63.00813, 19], [365, \"Ajuda Para Institui\\u00e7\\u00e3o D...\", \"http://vaka.me/667287\", 19.0625, 259], [366, \"Volta Dg!!\", \"http://vaka.me/665824\", 16.833333, 100], [367, \"Ajude Pretinha \\u2764\\ud83d\\udc36\", \"http://vaka.me/665831\", 16.25, 27], [368, \"Contra O C\\u00e2ncer... Um At...\", \"http://vaka.me/665858\", 0.525, 796], [369, \"Ajude A Fam\\u00edlia Da Monic...\", \"http://vaka.me/665847\", 5.5, 378], [370, \"O Vidda Precisa Da Sua A...\", \"http://vaka.me/665871\", 20.0, 128], [371, \"Cirurgia Emergencial Da ...\", \"http://vaka.me/665875\", 84.583333, 8], [373, \"Ajuda Para O Meu Tratame...\", \"http://vaka.me/665914\", 14.8, 171], [374, \"Vamos Ajudar Recruta?\", \"http://vaka.me/665908\", 4.83871, 118], [375, \"Opera\\u00e7\\u00e3o Do Pesco\\u00e7o Do Am\\u00f3s\", \"http://vaka.me/665916\", 6.25, 225], [376, \"Cirurgia De Otohematoma ...\", \"http://vaka.me/667409\", 85.0, 3], [377, \"Torneio Crossfit Brasil\", \"http://vaka.me/665980\", 8.75, 146], [379, \"Constru\\u00e7\\u00e3o Do Espa\\u00e7o De ...\", \"http://vaka.me/666020\", 13.0, 174], [380, \"Ajude O Cadu\", \"http://vaka.me/665966\", 27.75, 174], [381, \"Me Ajude A Ajudar\", \"http://vaka.me/665996\", 30.0, 20], [382, \"Cirurgia Da Meg\", \"http://vaka.me/666042\", 17.0, 50], [383, \"Ajude A Salvar Minha Fam...\", \"http://vaka.me/666032\", 6.7696, 373], [384, \"Livro Do Arte\\ud83d\\udcda\\u2764\\ufe0f\", \"http://vaka.me/666089\", 30.4, 140], [385, \"Dente Do Felipinho\", \"http://vaka.me/666036\", 3.448276, 112], [386, \"Desigualdade De G\\u00eanero E...\", \"http://vaka.me/665878\", 92.0, 7], [387, \"Campanha Para Ajudar Fam...\", \"http://vaka.me/666097\", 6.81431, 219], [388, \"Sophia Ayla \\\"Extraordin\\u00e1...\", \"http://vaka.me/666142\", 39.875, 193], [389, \"Juntos Pela Clara\", \"http://vaka.me/666196\", 22.2, 156], [390, \"Um Djembe Para A Lu\", \"http://vaka.me/666223\", 32.0, 55], [391, \"Sos Luna\", \"http://vaka.me/666302\", 2.6, 390], [392, \"Ajuda Para Pagamento De ...\", \"http://vaka.me/666283\", 7.5, 111], [393, \"Samy\", \"http://vaka.me/666304\", 8.833333, 219], [394, \"Precisando De Um Andador...\", \"http://vaka.me/666368\", 14.791667, 82], [395, \"Mudan\\u00e7a Do Itim \", \"http://vaka.me/666409\", 26.667333, 44], [396, \"Comprar Pr\\u00f3tese\", \"http://vaka.me/666404\", 1.25, 711], [397, \"Paulo Na Escuela Reina S...\", \"http://vaka.me/666056\", 2.166667, 587], [398, \"Vel\\u00f3rio Da Nossa Querida...\", \"http://vaka.me/666465\", 30.9833, 277], [399, \"Ajude O M\\u00e1rio!\", \"http://vaka.me/666471\", 16.527778, 601], [400, \"Livro Infinitude Do Ser\", \"http://vaka.me/666475\", 3.666667, 347], [401, \"Consulta E Exames Do Joca\", \"http://vaka.me/666477\", 60.0, 8], [402, \"Fabrica\\u00e7\\u00e3o E Entrega De ...\", \"http://vaka.me/666315\", 38.5, 50], [403, \"Todos Por Linguinha\", \"http://vaka.me/666419\", 3.0, 194], [404, \"Nevralgia\", \"http://vaka.me/666482\", 27.5, 58], [405, \"Ajuda Financeira Para Co...\", \"http://vaka.me/666371\", 4.166667, 115], [406, \"Todos Pela Bruna \", \"http://vaka.me/666497\", 6.5, 75], [407, \"Cantinho Pede Socorro\", \"http://vaka.me/666501\", 15.666667, 203], [408, \"Tratamento Diego\", \"http://vaka.me/666533\", 15.0, 374], [409, \"Todos Pelo Renan\", \"http://vaka.me/666581\", 0.642857, 2782], [410, \"2\\u00ba Curso De Seguran\\u00e7a P\\u00fa...\", \"http://vaka.me/666608\", 10.333333, 108], [411, \"Amigos Dos Animais De Ru...\", \"http://vaka.me/666610\", 2.1, 196], [412, \"Campeonato Brasileiro De...\", \"http://vaka.me/666617\", 21.0, 48], [413, \"Pessoal Ajudem Salvar Mi...\", \"http://vaka.me/666660\", 19.5732, 322], [414, \"Um Passo Para A Paraolim...\", \"http://vaka.me/666735\", 86.352516, 94], [415, \"Vamos Ajudar O Th\\u00e9o \", \"http://vaka.me/666722\", 5.627444, 587], [416, \"Material De Trabalho Rou...\", \"http://vaka.me/666741\", 2.75, 389], [418, \"Precisamos Adquirir Noss...\", \"http://vaka.me/666553\", 8.481013, 145], [419, \"Ajudando O Lukinha \", \"http://vaka.me/666698\", 18.75, 130], [420, \"Meninos Sub 10 Da Br Fut...\", \"http://vaka.me/664817\", 1.666667, 236], [421, \"Nosso Ch\\u00e1 De Panela\", \"http://vaka.me/664799\", 28.0, 72], [422, \"Faixas + Audiovisual Do ...\", \"http://vaka.me/666662\", 6.8, 187], [423, \"Projeto Estabilidade\", \"http://vaka.me/666696\", 7.75, 74], [424, \"Despesas Com Tratamento ...\", \"http://vaka.me/664873\", 26.0, 30], [425, \"Qualidade De Vida\", \"http://vaka.me/664881\", 5.25, 76], [426, \"Mastectomia\", \"http://vaka.me/664883\", 1.566667, 591], [427, \"Despesas Campeonato Bras...\", \"http://vaka.me/664895\", 2.5, 195], [428, \"Whisky Teve As Pernas De...\", \"http://vaka.me/664898\", 46.0, 33], [429, \"Uma Causa Pela Taila \", \"http://vaka.me/664907\", 0.572738, 695], [430, \"Ajuda Para A Kita\", \"http://vaka.me/664913\", 19.166667, 39], [431, \"Lan\\u00e7amento De Livros De ...\", \"http://vaka.me/665039\", 31.0, 166], [432, \"Todos Juntos Contra A P\\u00d3lio\", \"http://vaka.me/665057\", 28.0, 72], [433, \"Ajude Eliel Alzir!\", \"http://vaka.me/665061\", 1.25, 869], [434, \"Juju Saiu Do C\\u00e1rcere, Ag...\", \"http://vaka.me/664976\", 7.0, 186], [435, \"Sonho Do Meu Filho \", \"http://vaka.me/665122\", 35.714286, 18], [436, \"Copa Brasil De Bmx 2019\", \"http://vaka.me/665123\", 15.0, 34], [437, \"Ajude Esses 3 Irm\\u00e3os Ree...\", \"http://vaka.me/665149\", 11.346154, 461], [438, \"Ajuda Ao Beily\", \"http://vaka.me/665162\", 3.142857, 136], [440, \"Ajuda Para Alimenta\\u00e7\\u00e3o 2...\", \"http://vaka.me/665205\", 51.666667, 35], [441, \"Precisamos De Ajuda Para...\", \"http://vaka.me/664824\", 10.930233, 77], [442, \"Icaro Vai Jogar Handebol...\", \"http://vaka.me/665097\", 65.0, 21], [443, \"Comprar Alimentos E Sald...\", \"http://vaka.me/665219\", 4.0, 384], [444, \"Yuri Dias (#Juntospeloyuri)\", \"http://vaka.me/665243\", 7.2, 93], [445, \" Iago   Jogador Profissi...\", \"http://vaka.me/665251\", 1.5, 394], [446, \"Cinema Na Escola\", \"http://vaka.me/665195\", 7.916667, 221], [448, \"Ajudar A Salvar A Vida D...\", \"http://vaka.me/665354\", 62.5, 9], [449, \"Constru\\u00e7\\u00e3o Wing Chun Kun...\", \"http://vaka.me/665220\", 0.228571, 2794], [450, \"Forma Lady !\", \"http://vaka.me/665355\", 30.5, 28], [451, \"Quero Me Tornar Uma Fot\\u00f3...\", \"http://vaka.me/665365\", 2.142857, 274], [452, \"Todos Por Davi Lessa\", \"http://vaka.me/665379\", 39.55, 968], [453, \"Ajude O Lucas\", \"http://vaka.me/665380\", 3.83, 1924], [454, \"Ajude Com Uma C\\u00e2mera Par...\", \"http://vaka.me/665407\", 12.857143, 122], [456, \"Rem\\u00c9dio Tri\\u00d3xido De Ars\\u00canio\", \"http://vaka.me/665222\", 3.55625, 3087], [457, \"Obo\\u00e9 Do Giovanni\", \"http://vaka.me/665294\", 3.5, 579], [458, \"Ajude A Fazer A Cirurgia...\", \"http://vaka.me/665233\", 13.636364, 190], [459, \"Ajude O Guerreiro \", \"http://vaka.me/664087\", 36.111111, 23], [460, \"Ajude Os C\\u00e3ezinhos De Rua\", \"http://vaka.me/665115\", 10.0, 36], [461, \"Cirurgia Do Michel\", \"http://vaka.me/664095\", 3.75, 231], [462, \"Cirurgia De Dbs Para Ali...\", \"http://vaka.me/665417\", 15.5, 744], [463, \"Rifa Atleta Exames\", \"http://vaka.me/664122\", 15.5, 34], [464, \"Ajude A Gesta\\u00e7\\u00e3o Da Pret...\", \"http://vaka.me/664123\", 36.0, 13], [465, \"Fam\\u00edlia Perde Casa Incen...\", \"http://vaka.me/664125\", 8.3, 184], [466, \"Sos Cineasta   Ajude O G...\", \"http://vaka.me/664066\", 14.625, 274], [467, \"Tratamento Da Aninha\", \"http://vaka.me/664132\", 7.571429, 259], [468, \"Vamos Ajudar Abel Voltar...\", \"http://vaka.me/664147\", 1.0, 594], [469, \"Acampantes Para O A.M.O.\", \"http://vaka.me/664156\", 3.333333, 464], [470, \"Me Ajude A Chegar Em Bra...\", \"http://vaka.me/664173\", 25.0, 30], [471, \"Camera Nova Para Os Irm\\u00e3...\", \"http://vaka.me/664168\", 11.0, 107], [472, \"Preciso Da Sua Ajuda \\u2757\", \"http://vaka.me/664199\", 0.9375, 634], [473, \"Tratamento De Sa\\u00fade Doen...\", \"http://vaka.me/664202\", 2.5, 390], [474, \"Leve A Bio Ciclo Para O ...\", \"http://vaka.me/664242\", 64.545455, 16], [475, \"Reforma No Gol Do Mago D...\", \"http://vaka.me/664246\", 5.0, 152], [476, \"Ajude No Tratamento Do C...\", \"http://vaka.me/664210\", 1.3, 395], [477, \"A\\u00e7\\u00e3o Solid\\u00e1ria \", \"http://vaka.me/664307\", 10.166667, 108], [478, \"Pense Com Carinho . . . ...\", \"http://vaka.me/664348\", 56.666667, 26], [479, \"Vaquinha Da Vov\\u00f3 \", \"http://vaka.me/664295\", 16.0, 84], [480, \"Vaquinha Do Jo\\u00e3o ! Nos A...\", \"http://vaka.me/664378\", 1.6, 984], [481, \"Ajude A Cidade Escola Ayni\", \"http://vaka.me/664181\", 40.932, 591], [483, \"Ajude A Luli Voltar A An...\", \"http://vaka.me/664340\", 6.3, 150]]};\n",
       "        dt_args = eval_functions(dt_args);\n",
       "        table = $('#3bdccb6e-67b4-4e42-b6b6-e211076915a2').DataTable(dt_args);\n",
       "    });\n",
       "})\n",
       "</script>\n",
       "</div>\n"
      ],
      "text/plain": [
       "                           title                   link  percentage_goal  \\\n",
       "0    Vaquinha Para O Tratamen...  http://vaka.me/674387         2.800000   \n",
       "1    Ajuda Para Moradia (Viol...  http://vaka.me/673926        21.500000   \n",
       "2    Ajude Na Cirurgia Do Gat...  http://vaka.me/673951        13.846154   \n",
       "3    Casa Da Sra. Loiva De Ol...  http://vaka.me/673897         1.400000   \n",
       "4        Campanha Gean Em Madrid  http://vaka.me/673829         4.352941   \n",
       "5             Cadeira Do Ismael   http://vaka.me/673847        23.828279   \n",
       "6                 Ajude Dr Fábio  http://vaka.me/673848        28.000000   \n",
       "7            Salvem Meu Bichinho  http://vaka.me/673838        30.000000   \n",
       "8    Ajuda A Igreja Icer Jard...  http://vaka.me/673961         6.825000   \n",
       "9           Vamos Ajudar O Denis  http://vaka.me/673904         0.875000   \n",
       "10   Gatinho Atropelado Sangr...  http://vaka.me/673976         3.712871   \n",
       "11            Rumo Ao Japão 2019  http://vaka.me/674032         6.666667   \n",
       "12   Me Ajude Comprar Meu Rem...  http://vaka.me/674077        35.555556   \n",
       "13   Me Ajudem A Pagar O Mercado  http://vaka.me/674107        61.000000   \n",
       "14   Trigêmeos Maquinhos E Da...  http://vaka.me/674089         4.000000   \n",
       "15   Para Salvar Uma Vida De ...  http://vaka.me/673139        15.666667   \n",
       "16   Me Ajudem A Formar Em Me...  http://vaka.me/673183         0.180000   \n",
       "17   Benjamin O Gato Que Não ...  http://vaka.me/673154        24.625000   \n",
       "18    Ajude Os Meninos Do TostÃo  http://vaka.me/673169         1.875000   \n",
       "19   Primeiro Ep+Vídeoclipes ...  http://vaka.me/673882         4.300000   \n",
       "20           Todos Pela Rebeca♥️  http://vaka.me/673132        15.353333   \n",
       "21           Juliano Serralheiro  http://vaka.me/673188        63.093333   \n",
       "22   Ajude A Jamds A Manter S...  http://vaka.me/673203         3.500000   \n",
       "23   Gurizada De Santa Vitóri...  http://vaka.me/673236         3.777778   \n",
       "24   Um Novo Celular Para O Cris  http://vaka.me/673209        16.666667   \n",
       "25   Kombi Para Fazenda Recon...  http://vaka.me/673273         1.500000   \n",
       "26   Vaquinha Maria Do Socorr...  http://vaka.me/673290        35.500000   \n",
       "27   Precisamos De Ajuda Para...  http://vaka.me/673276        12.100000   \n",
       "28   Ajude A Neuza Gonçalves ...  http://vaka.me/673311         0.833333   \n",
       "29       Todos Por Maria Vitória  http://vaka.me/673343         3.125000   \n",
       "..                           ...                    ...              ...   \n",
       "452         Todos Por Davi Lessa  http://vaka.me/665379        39.550000   \n",
       "453                Ajude O Lucas  http://vaka.me/665380         3.830000   \n",
       "454  Ajude Com Uma Câmera Par...  http://vaka.me/665407        12.857143   \n",
       "456  RemÉdio TriÓxido De ArsÊnio  http://vaka.me/665222         3.556250   \n",
       "457             Oboé Do Giovanni  http://vaka.me/665294         3.500000   \n",
       "458  Ajude A Fazer A Cirurgia...  http://vaka.me/665233        13.636364   \n",
       "459           Ajude O Guerreiro   http://vaka.me/664087        36.111111   \n",
       "460    Ajude Os Cãezinhos De Rua  http://vaka.me/665115        10.000000   \n",
       "461           Cirurgia Do Michel  http://vaka.me/664095         3.750000   \n",
       "462  Cirurgia De Dbs Para Ali...  http://vaka.me/665417        15.500000   \n",
       "463           Rifa Atleta Exames  http://vaka.me/664122        15.500000   \n",
       "464  Ajude A Gestação Da Pret...  http://vaka.me/664123        36.000000   \n",
       "465  Família Perde Casa Incen...  http://vaka.me/664125         8.300000   \n",
       "466  Sos Cineasta   Ajude O G...  http://vaka.me/664066        14.625000   \n",
       "467         Tratamento Da Aninha  http://vaka.me/664132         7.571429   \n",
       "468  Vamos Ajudar Abel Voltar...  http://vaka.me/664147         1.000000   \n",
       "469     Acampantes Para O A.M.O.  http://vaka.me/664156         3.333333   \n",
       "470  Me Ajude A Chegar Em Bra...  http://vaka.me/664173        25.000000   \n",
       "471  Camera Nova Para Os Irmã...  http://vaka.me/664168        11.000000   \n",
       "472       Preciso Da Sua Ajuda ❗  http://vaka.me/664199         0.937500   \n",
       "473  Tratamento De Saúde Doen...  http://vaka.me/664202         2.500000   \n",
       "474  Leve A Bio Ciclo Para O ...  http://vaka.me/664242        64.545455   \n",
       "475  Reforma No Gol Do Mago D...  http://vaka.me/664246         5.000000   \n",
       "476  Ajude No Tratamento Do C...  http://vaka.me/664210         1.300000   \n",
       "477              Ação Solidária   http://vaka.me/664307        10.166667   \n",
       "478  Pense Com Carinho . . . ...  http://vaka.me/664348        56.666667   \n",
       "479            Vaquinha Da Vovó   http://vaka.me/664295        16.000000   \n",
       "480  Vaquinha Do João ! Nos A...  http://vaka.me/664378         1.600000   \n",
       "481   Ajude A Cidade Escola Ayni  http://vaka.me/664181        40.932000   \n",
       "483  Ajude A Luli Voltar A An...  http://vaka.me/664340         6.300000   \n",
       "\n",
       "     number_of_people  \n",
       "0                 389  \n",
       "1                  63  \n",
       "2                  45  \n",
       "3                 986  \n",
       "4                 326  \n",
       "5                 155  \n",
       "6                 144  \n",
       "7                  14  \n",
       "8                 746  \n",
       "9                2379  \n",
       "10                 78  \n",
       "11                112  \n",
       "12                 12  \n",
       "13                  8  \n",
       "14               1152  \n",
       "15                102  \n",
       "16               3993  \n",
       "17                121  \n",
       "18                314  \n",
       "19                766  \n",
       "20                508  \n",
       "21                443  \n",
       "22                116  \n",
       "23                693  \n",
       "24                 50  \n",
       "25               1182  \n",
       "26                 26  \n",
       "27                176  \n",
       "28                476  \n",
       "29                310  \n",
       "..                ...  \n",
       "452               968  \n",
       "453              1924  \n",
       "454               122  \n",
       "456              3087  \n",
       "457               579  \n",
       "458               190  \n",
       "459                23  \n",
       "460                36  \n",
       "461               231  \n",
       "462               744  \n",
       "463                34  \n",
       "464                13  \n",
       "465               184  \n",
       "466               274  \n",
       "467               259  \n",
       "468               594  \n",
       "469               464  \n",
       "470                30  \n",
       "471               107  \n",
       "472               634  \n",
       "473               390  \n",
       "474                16  \n",
       "475               152  \n",
       "476               395  \n",
       "477               108  \n",
       "478                26  \n",
       "479                84  \n",
       "480               984  \n",
       "481               591  \n",
       "483               150  \n",
       "\n",
       "[461 rows x 4 columns]"
      ]
     },
     "execution_count": 181,
     "metadata": {},
     "output_type": "execute_result"
    }
   ],
   "source": [
    "df"
   ]
  }
 ],
 "metadata": {
  "kernelspec": {
   "display_name": "Python 3",
   "language": "python",
   "name": "python3"
  },
  "language_info": {
   "codemirror_mode": {
    "name": "ipython",
    "version": 3
   },
   "file_extension": ".py",
   "mimetype": "text/x-python",
   "name": "python",
   "nbconvert_exporter": "python",
   "pygments_lexer": "ipython3",
   "version": "3.7.3"
  }
 },
 "nbformat": 4,
 "nbformat_minor": 2
}

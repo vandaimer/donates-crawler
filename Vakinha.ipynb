{
 "cells": [
  {
   "cell_type": "code",
   "execution_count": null,
   "metadata": {},
   "outputs": [],
   "source": [
    "#install\n",
    "%pip install jupyter/datascience-notebook"
   ]
  },
  {
   "cell_type": "code",
   "execution_count": 60,
   "metadata": {},
   "outputs": [],
   "source": [
    "import glob\n",
    "import math\n",
    "import pandas as pd\n",
    "\n",
    "%matplotlib inline\n",
    "MINIMUM_DONATE = 25\n",
    "\n",
    "file_list = glob.glob('src/vakinha*.json')\n",
    "file_list.sort(reverse = True)\n",
    "\n",
    "df = pd.read_json(file_list[0])"
   ]
  },
  {
   "cell_type": "markdown",
   "metadata": {},
   "source": [
    "# Number of vakinhas before clean the data"
   ]
  },
  {
   "cell_type": "code",
   "execution_count": 52,
   "metadata": {},
   "outputs": [
    {
     "data": {
      "text/plain": [
       "484"
      ]
     },
     "execution_count": 52,
     "metadata": {},
     "output_type": "execute_result"
    }
   ],
   "source": [
    "len(df)"
   ]
  },
  {
   "cell_type": "code",
   "execution_count": 53,
   "metadata": {},
   "outputs": [],
   "source": [
    "def clean_price_data(value):\n",
    "    value = value.replace(',00', '')\n",
    "    value = value.replace('R$', '')\n",
    "    value = value.replace('.', '')\n",
    "    value = value.replace(',', '.')\n",
    "    return float(value)\n",
    "\n",
    "df['collected'] = df['collected'].apply(lambda value: clean_price_data(value))\n",
    "df['goal'] = df['goal'].apply(lambda value: clean_price_data(value))"
   ]
  },
  {
   "cell_type": "code",
   "execution_count": 54,
   "metadata": {},
   "outputs": [],
   "source": [
    "df['different'] = df.apply(lambda row: row.goal - row.collected, axis=1)\n",
    "df['percentage_goal'] = df.apply(lambda row: ((row.collected * 100) / row.goal), axis=1)"
   ]
  },
  {
   "cell_type": "markdown",
   "metadata": {},
   "source": [
    "# Filter vakinhas that did not reach the goal"
   ]
  },
  {
   "cell_type": "code",
   "execution_count": 55,
   "metadata": {},
   "outputs": [
    {
     "data": {
      "text/plain": [
       "461"
      ]
     },
     "execution_count": 55,
     "metadata": {},
     "output_type": "execute_result"
    }
   ],
   "source": [
    "df = df[df.percentage_goal < 100]\n",
    "len(df)"
   ]
  },
  {
   "cell_type": "markdown",
   "metadata": {},
   "source": [
    "# Order the vakinhas by the 'percentage_goal' closer than 100%"
   ]
  },
  {
   "cell_type": "code",
   "execution_count": 56,
   "metadata": {},
   "outputs": [
    {
     "data": {
      "text/html": [
       "<div>\n",
       "<style scoped>\n",
       "    .dataframe tbody tr th:only-of-type {\n",
       "        vertical-align: middle;\n",
       "    }\n",
       "\n",
       "    .dataframe tbody tr th {\n",
       "        vertical-align: top;\n",
       "    }\n",
       "\n",
       "    .dataframe thead th {\n",
       "        text-align: right;\n",
       "    }\n",
       "</style>\n",
       "<table border=\"1\" class=\"dataframe\">\n",
       "  <thead>\n",
       "    <tr style=\"text-align: right;\">\n",
       "      <th></th>\n",
       "      <th>collected</th>\n",
       "      <th>created_at</th>\n",
       "      <th>end_at</th>\n",
       "      <th>goal</th>\n",
       "      <th>id</th>\n",
       "      <th>link</th>\n",
       "      <th>title</th>\n",
       "      <th>different</th>\n",
       "      <th>percentage_goal</th>\n",
       "    </tr>\n",
       "  </thead>\n",
       "  <tbody>\n",
       "    <tr>\n",
       "      <th>74</th>\n",
       "      <td>2630.0</td>\n",
       "      <td>2019-08-08</td>\n",
       "      <td>2019-02-09</td>\n",
       "      <td>2640.0</td>\n",
       "      <td>672297</td>\n",
       "      <td>http://vaka.me/672297</td>\n",
       "      <td>Ajude O Chico!</td>\n",
       "      <td>10.0</td>\n",
       "      <td>99.621212</td>\n",
       "    </tr>\n",
       "    <tr>\n",
       "      <th>121</th>\n",
       "      <td>3850.0</td>\n",
       "      <td>2019-07-08</td>\n",
       "      <td>2019-10-10</td>\n",
       "      <td>4000.0</td>\n",
       "      <td>671202</td>\n",
       "      <td>http://vaka.me/671202</td>\n",
       "      <td>Vira Lata Atropelada</td>\n",
       "      <td>150.0</td>\n",
       "      <td>96.250000</td>\n",
       "    </tr>\n",
       "    <tr>\n",
       "      <th>238</th>\n",
       "      <td>475.0</td>\n",
       "      <td>2019-06-08</td>\n",
       "      <td>2019-06-09</td>\n",
       "      <td>500.0</td>\n",
       "      <td>669872</td>\n",
       "      <td>http://vaka.me/669872</td>\n",
       "      <td>Ajude A Amelie</td>\n",
       "      <td>25.0</td>\n",
       "      <td>95.000000</td>\n",
       "    </tr>\n",
       "    <tr>\n",
       "      <th>316</th>\n",
       "      <td>3795.0</td>\n",
       "      <td>2019-05-08</td>\n",
       "      <td>2019-07-08</td>\n",
       "      <td>4000.0</td>\n",
       "      <td>668034</td>\n",
       "      <td>http://vaka.me/668034</td>\n",
       "      <td>Dentista Para O Thiaguinho</td>\n",
       "      <td>205.0</td>\n",
       "      <td>94.875000</td>\n",
       "    </tr>\n",
       "    <tr>\n",
       "      <th>314</th>\n",
       "      <td>3750.0</td>\n",
       "      <td>2019-05-08</td>\n",
       "      <td>2019-03-11</td>\n",
       "      <td>4000.0</td>\n",
       "      <td>667962</td>\n",
       "      <td>http://vaka.me/667962</td>\n",
       "      <td>Ajudem O Heitorzinho</td>\n",
       "      <td>250.0</td>\n",
       "      <td>93.750000</td>\n",
       "    </tr>\n",
       "  </tbody>\n",
       "</table>\n",
       "</div>"
      ],
      "text/plain": [
       "     collected created_at     end_at    goal      id                   link  \\\n",
       "74      2630.0 2019-08-08 2019-02-09  2640.0  672297  http://vaka.me/672297   \n",
       "121     3850.0 2019-07-08 2019-10-10  4000.0  671202  http://vaka.me/671202   \n",
       "238      475.0 2019-06-08 2019-06-09   500.0  669872  http://vaka.me/669872   \n",
       "316     3795.0 2019-05-08 2019-07-08  4000.0  668034  http://vaka.me/668034   \n",
       "314     3750.0 2019-05-08 2019-03-11  4000.0  667962  http://vaka.me/667962   \n",
       "\n",
       "                          title  different  percentage_goal  \n",
       "74              Ajude O Chico!        10.0        99.621212  \n",
       "121        Vira Lata Atropelada      150.0        96.250000  \n",
       "238             Ajude A Amelie        25.0        95.000000  \n",
       "316  Dentista Para O Thiaguinho      205.0        94.875000  \n",
       "314        Ajudem O Heitorzinho      250.0        93.750000  "
      ]
     },
     "execution_count": 56,
     "metadata": {},
     "output_type": "execute_result"
    }
   ],
   "source": [
    "df_sorted = df.sort_values(by=['percentage_goal'], ascending=False)\n",
    "df_sorted.head()"
   ]
  },
  {
   "cell_type": "markdown",
   "metadata": {},
   "source": [
    "# How many people need to help to reach the goal\n",
    "**number_of_people** is the max of people are needed to finish that Vakinha and reach the goal"
   ]
  },
  {
   "cell_type": "code",
   "execution_count": 57,
   "metadata": {},
   "outputs": [],
   "source": [
    "df['number_of_people'] = df.apply(lambda row: math.ceil(row.different / MINIMUM_DONATE), axis=1)"
   ]
  },
  {
   "cell_type": "markdown",
   "metadata": {},
   "source": [
    "# Order the vakinhas by the 'number_of_people' closer than 100%"
   ]
  },
  {
   "cell_type": "code",
   "execution_count": 58,
   "metadata": {},
   "outputs": [
    {
     "data": {
      "text/html": [
       "<div>\n",
       "<style scoped>\n",
       "    .dataframe tbody tr th:only-of-type {\n",
       "        vertical-align: middle;\n",
       "    }\n",
       "\n",
       "    .dataframe tbody tr th {\n",
       "        vertical-align: top;\n",
       "    }\n",
       "\n",
       "    .dataframe thead th {\n",
       "        text-align: right;\n",
       "    }\n",
       "</style>\n",
       "<table border=\"1\" class=\"dataframe\">\n",
       "  <thead>\n",
       "    <tr style=\"text-align: right;\">\n",
       "      <th></th>\n",
       "      <th>collected</th>\n",
       "      <th>created_at</th>\n",
       "      <th>end_at</th>\n",
       "      <th>goal</th>\n",
       "      <th>id</th>\n",
       "      <th>link</th>\n",
       "      <th>title</th>\n",
       "      <th>different</th>\n",
       "      <th>percentage_goal</th>\n",
       "      <th>number_of_people</th>\n",
       "    </tr>\n",
       "  </thead>\n",
       "  <tbody>\n",
       "    <tr>\n",
       "      <th>238</th>\n",
       "      <td>475.0</td>\n",
       "      <td>2019-06-08</td>\n",
       "      <td>2019-06-09</td>\n",
       "      <td>500.0</td>\n",
       "      <td>669872</td>\n",
       "      <td>http://vaka.me/669872</td>\n",
       "      <td>Ajude A Amelie</td>\n",
       "      <td>25.0</td>\n",
       "      <td>95.000000</td>\n",
       "      <td>1</td>\n",
       "    </tr>\n",
       "    <tr>\n",
       "      <th>74</th>\n",
       "      <td>2630.0</td>\n",
       "      <td>2019-08-08</td>\n",
       "      <td>2019-02-09</td>\n",
       "      <td>2640.0</td>\n",
       "      <td>672297</td>\n",
       "      <td>http://vaka.me/672297</td>\n",
       "      <td>Ajude O Chico!</td>\n",
       "      <td>10.0</td>\n",
       "      <td>99.621212</td>\n",
       "      <td>1</td>\n",
       "    </tr>\n",
       "    <tr>\n",
       "      <th>253</th>\n",
       "      <td>560.0</td>\n",
       "      <td>2019-05-08</td>\n",
       "      <td>2019-04-11</td>\n",
       "      <td>600.0</td>\n",
       "      <td>668638</td>\n",
       "      <td>http://vaka.me/668638</td>\n",
       "      <td>Castração Jade Infecção ...</td>\n",
       "      <td>40.0</td>\n",
       "      <td>93.333333</td>\n",
       "      <td>2</td>\n",
       "    </tr>\n",
       "    <tr>\n",
       "      <th>54</th>\n",
       "      <td>190.0</td>\n",
       "      <td>2019-08-08</td>\n",
       "      <td>2019-07-11</td>\n",
       "      <td>245.0</td>\n",
       "      <td>673104</td>\n",
       "      <td>http://vaka.me/673104</td>\n",
       "      <td>Ajude O Luke A Andar</td>\n",
       "      <td>55.0</td>\n",
       "      <td>77.551020</td>\n",
       "      <td>3</td>\n",
       "    </tr>\n",
       "    <tr>\n",
       "      <th>376</th>\n",
       "      <td>425.0</td>\n",
       "      <td>2019-05-08</td>\n",
       "      <td>2019-08-25</td>\n",
       "      <td>500.0</td>\n",
       "      <td>667409</td>\n",
       "      <td>http://vaka.me/667409</td>\n",
       "      <td>Cirurgia De Otohematoma ...</td>\n",
       "      <td>75.0</td>\n",
       "      <td>85.000000</td>\n",
       "      <td>3</td>\n",
       "    </tr>\n",
       "  </tbody>\n",
       "</table>\n",
       "</div>"
      ],
      "text/plain": [
       "     collected created_at     end_at    goal      id                   link  \\\n",
       "238      475.0 2019-06-08 2019-06-09   500.0  669872  http://vaka.me/669872   \n",
       "74      2630.0 2019-08-08 2019-02-09  2640.0  672297  http://vaka.me/672297   \n",
       "253      560.0 2019-05-08 2019-04-11   600.0  668638  http://vaka.me/668638   \n",
       "54       190.0 2019-08-08 2019-07-11   245.0  673104  http://vaka.me/673104   \n",
       "376      425.0 2019-05-08 2019-08-25   500.0  667409  http://vaka.me/667409   \n",
       "\n",
       "                           title  different  percentage_goal  number_of_people  \n",
       "238              Ajude A Amelie        25.0        95.000000                 1  \n",
       "74               Ajude O Chico!        10.0        99.621212                 1  \n",
       "253  Castração Jade Infecção ...       40.0        93.333333                 2  \n",
       "54          Ajude O Luke A Andar       55.0        77.551020                 3  \n",
       "376  Cirurgia De Otohematoma ...       75.0        85.000000                 3  "
      ]
     },
     "execution_count": 58,
     "metadata": {},
     "output_type": "execute_result"
    }
   ],
   "source": [
    "df_sorted = df.sort_values(by=['number_of_people'])\n",
    "df_sorted.head()"
   ]
  }
 ],
 "metadata": {
  "kernelspec": {
   "display_name": "Python 3",
   "language": "python",
   "name": "python3"
  },
  "language_info": {
   "codemirror_mode": {
    "name": "ipython",
    "version": 3
   },
   "file_extension": ".py",
   "mimetype": "text/x-python",
   "name": "python",
   "nbconvert_exporter": "python",
   "pygments_lexer": "ipython3",
   "version": "3.7.3"
  }
 },
 "nbformat": 4,
 "nbformat_minor": 2
}

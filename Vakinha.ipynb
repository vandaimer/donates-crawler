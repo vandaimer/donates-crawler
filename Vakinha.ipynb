{
 "cells": [
  {
   "cell_type": "code",
   "execution_count": 68,
   "metadata": {},
   "outputs": [
    {
     "name": "stdout",
     "output_type": "stream",
     "text": [
      "Requirement already satisfied: world_bank_data in /opt/conda/lib/python3.7/site-packages (0.1.3)\n",
      "Requirement already satisfied: pandas in /opt/conda/lib/python3.7/site-packages (from world_bank_data) (0.24.2)\n",
      "Requirement already satisfied: cachetools in /opt/conda/lib/python3.7/site-packages (from world_bank_data) (3.1.1)\n",
      "Requirement already satisfied: requests in /opt/conda/lib/python3.7/site-packages (from world_bank_data) (2.22.0)\n",
      "Requirement already satisfied: pytz>=2011k in /opt/conda/lib/python3.7/site-packages (from pandas->world_bank_data) (2019.1)\n",
      "Requirement already satisfied: numpy>=1.12.0 in /opt/conda/lib/python3.7/site-packages (from pandas->world_bank_data) (1.15.4)\n",
      "Requirement already satisfied: python-dateutil>=2.5.0 in /opt/conda/lib/python3.7/site-packages (from pandas->world_bank_data) (2.8.0)\n",
      "Requirement already satisfied: idna<2.9,>=2.5 in /opt/conda/lib/python3.7/site-packages (from requests->world_bank_data) (2.8)\n",
      "Requirement already satisfied: certifi>=2017.4.17 in /opt/conda/lib/python3.7/site-packages (from requests->world_bank_data) (2019.6.16)\n",
      "Requirement already satisfied: chardet<3.1.0,>=3.0.2 in /opt/conda/lib/python3.7/site-packages (from requests->world_bank_data) (3.0.4)\n",
      "Requirement already satisfied: urllib3!=1.25.0,!=1.25.1,<1.26,>=1.21.1 in /opt/conda/lib/python3.7/site-packages (from requests->world_bank_data) (1.25.3)\n",
      "Requirement already satisfied: six>=1.5 in /opt/conda/lib/python3.7/site-packages (from python-dateutil>=2.5.0->pandas->world_bank_data) (1.12.0)\n",
      "Note: you may need to restart the kernel to use updated packages.\n",
      "Requirement already satisfied: itables in /opt/conda/lib/python3.7/site-packages (0.1.0)\n",
      "Requirement already satisfied: pandas in /opt/conda/lib/python3.7/site-packages (from itables) (0.24.2)\n",
      "Requirement already satisfied: python-dateutil>=2.5.0 in /opt/conda/lib/python3.7/site-packages (from pandas->itables) (2.8.0)\n",
      "Requirement already satisfied: numpy>=1.12.0 in /opt/conda/lib/python3.7/site-packages (from pandas->itables) (1.15.4)\n",
      "Requirement already satisfied: pytz>=2011k in /opt/conda/lib/python3.7/site-packages (from pandas->itables) (2019.1)\n",
      "Requirement already satisfied: six>=1.5 in /opt/conda/lib/python3.7/site-packages (from python-dateutil>=2.5.0->pandas->itables) (1.12.0)\n",
      "Note: you may need to restart the kernel to use updated packages.\n"
     ]
    }
   ],
   "source": [
    "#install\n",
    "%pip install world_bank_data\n",
    "%pip install itables"
   ]
  },
  {
   "cell_type": "code",
   "execution_count": 69,
   "metadata": {},
   "outputs": [],
   "source": [
    "import glob\n",
    "import math\n",
    "import pandas as pd\n",
    "import world_bank_data as wb\n",
    "import itables\n",
    "\n",
    "%matplotlib inline\n",
    "MINIMUM_DONATE = 25\n",
    "\n",
    "file_list = glob.glob('src/vakinha*.json')\n",
    "file_list.sort(reverse = True)\n",
    "\n",
    "df = pd.read_json(file_list[0])"
   ]
  },
  {
   "cell_type": "markdown",
   "metadata": {},
   "source": [
    "# Number of vakinhas before clean the data"
   ]
  },
  {
   "cell_type": "code",
   "execution_count": 70,
   "metadata": {},
   "outputs": [
    {
     "data": {
      "text/plain": [
       "484"
      ]
     },
     "execution_count": 70,
     "metadata": {},
     "output_type": "execute_result"
    }
   ],
   "source": [
    "len(df)"
   ]
  },
  {
   "cell_type": "code",
   "execution_count": 71,
   "metadata": {},
   "outputs": [],
   "source": [
    "def clean_price_data(value):\n",
    "    value = value.replace(',00', '')\n",
    "    value = value.replace('R$', '')\n",
    "    value = value.replace('.', '')\n",
    "    value = value.replace(',', '.')\n",
    "    return float(value)\n",
    "\n",
    "df['collected'] = df['collected'].apply(lambda value: clean_price_data(value))\n",
    "df['goal'] = df['goal'].apply(lambda value: clean_price_data(value))"
   ]
  },
  {
   "cell_type": "code",
   "execution_count": 72,
   "metadata": {},
   "outputs": [],
   "source": [
    "df['different'] = df.apply(lambda row: row.goal - row.collected, axis=1)\n",
    "df['percentage_goal'] = df.apply(lambda row: ((row.collected * 100) / row.goal), axis=1)"
   ]
  },
  {
   "cell_type": "markdown",
   "metadata": {},
   "source": [
    "# Filter vakinhas that did not reach the goal"
   ]
  },
  {
   "cell_type": "code",
   "execution_count": 73,
   "metadata": {},
   "outputs": [
    {
     "data": {
      "text/plain": [
       "461"
      ]
     },
     "execution_count": 73,
     "metadata": {},
     "output_type": "execute_result"
    }
   ],
   "source": [
    "df = df[df.percentage_goal < 100]\n",
    "len(df)"
   ]
  },
  {
   "cell_type": "markdown",
   "metadata": {},
   "source": [
    "# Order the vakinhas by the 'percentage_goal' closer than 100%"
   ]
  },
  {
   "cell_type": "code",
   "execution_count": 74,
   "metadata": {},
   "outputs": [
    {
     "data": {
      "text/html": [
       "<div>\n",
       "<style scoped>\n",
       "    .dataframe tbody tr th:only-of-type {\n",
       "        vertical-align: middle;\n",
       "    }\n",
       "\n",
       "    .dataframe tbody tr th {\n",
       "        vertical-align: top;\n",
       "    }\n",
       "\n",
       "    .dataframe thead th {\n",
       "        text-align: right;\n",
       "    }\n",
       "</style>\n",
       "<table border=\"1\" class=\"dataframe\">\n",
       "  <thead>\n",
       "    <tr style=\"text-align: right;\">\n",
       "      <th></th>\n",
       "      <th>collected</th>\n",
       "      <th>created_at</th>\n",
       "      <th>end_at</th>\n",
       "      <th>goal</th>\n",
       "      <th>id</th>\n",
       "      <th>link</th>\n",
       "      <th>title</th>\n",
       "      <th>different</th>\n",
       "      <th>percentage_goal</th>\n",
       "    </tr>\n",
       "  </thead>\n",
       "  <tbody>\n",
       "    <tr>\n",
       "      <th>74</th>\n",
       "      <td>2630.0</td>\n",
       "      <td>2019-08-08</td>\n",
       "      <td>2019-02-09</td>\n",
       "      <td>2640.0</td>\n",
       "      <td>672297</td>\n",
       "      <td>http://vaka.me/672297</td>\n",
       "      <td>Ajude O Chico!</td>\n",
       "      <td>10.0</td>\n",
       "      <td>99.621212</td>\n",
       "    </tr>\n",
       "    <tr>\n",
       "      <th>121</th>\n",
       "      <td>3850.0</td>\n",
       "      <td>2019-07-08</td>\n",
       "      <td>2019-10-10</td>\n",
       "      <td>4000.0</td>\n",
       "      <td>671202</td>\n",
       "      <td>http://vaka.me/671202</td>\n",
       "      <td>Vira Lata Atropelada</td>\n",
       "      <td>150.0</td>\n",
       "      <td>96.250000</td>\n",
       "    </tr>\n",
       "    <tr>\n",
       "      <th>238</th>\n",
       "      <td>475.0</td>\n",
       "      <td>2019-06-08</td>\n",
       "      <td>2019-06-09</td>\n",
       "      <td>500.0</td>\n",
       "      <td>669872</td>\n",
       "      <td>http://vaka.me/669872</td>\n",
       "      <td>Ajude A Amelie</td>\n",
       "      <td>25.0</td>\n",
       "      <td>95.000000</td>\n",
       "    </tr>\n",
       "    <tr>\n",
       "      <th>316</th>\n",
       "      <td>3795.0</td>\n",
       "      <td>2019-05-08</td>\n",
       "      <td>2019-07-08</td>\n",
       "      <td>4000.0</td>\n",
       "      <td>668034</td>\n",
       "      <td>http://vaka.me/668034</td>\n",
       "      <td>Dentista Para O Thiaguinho</td>\n",
       "      <td>205.0</td>\n",
       "      <td>94.875000</td>\n",
       "    </tr>\n",
       "    <tr>\n",
       "      <th>314</th>\n",
       "      <td>3750.0</td>\n",
       "      <td>2019-05-08</td>\n",
       "      <td>2019-03-11</td>\n",
       "      <td>4000.0</td>\n",
       "      <td>667962</td>\n",
       "      <td>http://vaka.me/667962</td>\n",
       "      <td>Ajudem O Heitorzinho</td>\n",
       "      <td>250.0</td>\n",
       "      <td>93.750000</td>\n",
       "    </tr>\n",
       "  </tbody>\n",
       "</table>\n",
       "</div>"
      ],
      "text/plain": [
       "     collected created_at     end_at    goal      id                   link  \\\n",
       "74      2630.0 2019-08-08 2019-02-09  2640.0  672297  http://vaka.me/672297   \n",
       "121     3850.0 2019-07-08 2019-10-10  4000.0  671202  http://vaka.me/671202   \n",
       "238      475.0 2019-06-08 2019-06-09   500.0  669872  http://vaka.me/669872   \n",
       "316     3795.0 2019-05-08 2019-07-08  4000.0  668034  http://vaka.me/668034   \n",
       "314     3750.0 2019-05-08 2019-03-11  4000.0  667962  http://vaka.me/667962   \n",
       "\n",
       "                          title  different  percentage_goal  \n",
       "74              Ajude O Chico!        10.0        99.621212  \n",
       "121        Vira Lata Atropelada      150.0        96.250000  \n",
       "238             Ajude A Amelie        25.0        95.000000  \n",
       "316  Dentista Para O Thiaguinho      205.0        94.875000  \n",
       "314        Ajudem O Heitorzinho      250.0        93.750000  "
      ]
     },
     "execution_count": 74,
     "metadata": {},
     "output_type": "execute_result"
    }
   ],
   "source": [
    "df_sorted = df.sort_values(by=['percentage_goal'], ascending=False)\n",
    "df_sorted.head()"
   ]
  },
  {
   "cell_type": "markdown",
   "metadata": {},
   "source": [
    "# How many people need to help to reach the goal\n",
    "**number_of_people** is the max of people are needed to finish that Vakinha and reach the goal"
   ]
  },
  {
   "cell_type": "code",
   "execution_count": 75,
   "metadata": {},
   "outputs": [],
   "source": [
    "df['number_of_people'] = df.apply(lambda row: math.ceil(row.different / MINIMUM_DONATE), axis=1)"
   ]
  },
  {
   "cell_type": "markdown",
   "metadata": {},
   "source": [
    "# Order the vakinhas by the 'number_of_people' closer than 100%"
   ]
  },
  {
   "cell_type": "code",
   "execution_count": 76,
   "metadata": {},
   "outputs": [],
   "source": [
    "df_sorted = df.sort_values(by=['number_of_people'])"
   ]
  },
  {
   "cell_type": "code",
   "execution_count": 77,
   "metadata": {},
   "outputs": [
    {
     "data": {
      "text/html": [
       "<div><table id=\"ca70c983-a114-46e9-8fd9-000f9235e6c4\" class=\"display\"><thead>\n",
       "    <tr style=\"text-align: right;\">\n",
       "      <th></th>\n",
       "      <th>collected</th>\n",
       "      <th>created_at</th>\n",
       "      <th>end_at</th>\n",
       "      <th>goal</th>\n",
       "      <th>id</th>\n",
       "      <th>link</th>\n",
       "      <th>title</th>\n",
       "      <th>different</th>\n",
       "      <th>percentage_goal</th>\n",
       "      <th>number_of_people</th>\n",
       "    </tr>\n",
       "  </thead></table>\n",
       "<script type=\"text/javascript\">\n",
       "require([\"datatables\"], function (datatables) {\n",
       "    $(document).ready(function () {\n",
       "        function eval_functions(map_or_text) {\n",
       "            if (typeof map_or_text === \"string\") {\n",
       "                if (map_or_text.startsWith(\"function\")) {\n",
       "                    try {\n",
       "                        // Note: parenthesis are required around the whole expression for eval to return a value!\n",
       "                        // See https://stackoverflow.com/a/7399078/911298.\n",
       "                        //\n",
       "                        // eval(\"local_fun = \" + map_or_text) would fail because local_fun is not declared\n",
       "                        // (using var, let or const would work, but it would only be declared in the local scope\n",
       "                        // and therefore the value could not be retrieved).\n",
       "                        const func = eval(`(${map_or_text})`);\n",
       "                        if (typeof func !== \"function\") {\n",
       "                            // Note: backquotes are super convenient! \n",
       "                            // https://developer.mozilla.org/en-US/docs/Web/JavaScript/Reference/Template_literals\n",
       "                            console.error(\n",
       "                                `Evaluated expression \"${map_or_text}\" is not a function (type is ${typeof func})`\n",
       "                            );\n",
       "                            return map_or_text;\n",
       "                        }\n",
       "                        // Return the function        \n",
       "                        return func;\n",
       "                    } catch (e) {\n",
       "                        // Make sure to print the error with a second argument to console.error().\n",
       "                        console.error(`itables was not able to parse \"${map_or_text}\"`, e);\n",
       "                    }\n",
       "                }\n",
       "            } else if (typeof map_or_text === \"object\") {\n",
       "                if (map_or_text instanceof Array) {\n",
       "                    // Note: \"var\" is now superseded by \"let\" and \"const\".\n",
       "                    // https://medium.com/javascript-scene/javascript-es6-var-let-or-const-ba58b8dcde75\n",
       "                    const result = [];\n",
       "                    // Note: \"for of\" is the best way to iterate through an iterable.\n",
       "                    // https://developer.mozilla.org/en-US/docs/Web/JavaScript/Reference/Statements/for...of\n",
       "                    for (const item of map_or_text) {\n",
       "                        result.push(eval_functions(item));\n",
       "                    }\n",
       "                    return result;\n",
       "\n",
       "                    // Alternatively, more functional approach in one line:\n",
       "                    // return map_or_text.map(eval_functions);\n",
       "                } else {\n",
       "                    const result = {};\n",
       "                    // Object.keys() is safer than \"for in\" because otherwise you might have keys\n",
       "                    // that aren't defined in the object itself.\n",
       "                    //\n",
       "                    // See https://stackoverflow.com/a/684692/911298.\n",
       "                    for (const item of Object.keys(map_or_text)) {\n",
       "                        result[item] = eval_functions(map_or_text[item]);\n",
       "                    }\n",
       "                    return result;\n",
       "                }\n",
       "            }\n",
       "\n",
       "            return map_or_text;\n",
       "        }\n",
       "        var dt_args = {\"data\": [[0, 280.0, \"2019-10-08\", \"2019-01-12\", 10000.0, 674387, \"http://vaka.me/674387\", \"Vaquinha Para O Tratamen...\", 9720.0, 2.8, 389], [1, 430.0, \"2019-09-08\", \"2019-09-11\", 2000.0, 673926, \"http://vaka.me/673926\", \"Ajuda Para Moradia (Viol...\", 1570.0, 21.5, 63], [2, 180.0, \"2019-09-08\", \"2019-09-09\", 1300.0, 673951, \"http://vaka.me/673951\", \"Ajude Na Cirurgia Do Gat...\", 1120.0, 13.846154, 45], [3, 350.0, \"2019-09-08\", \"2019-12-31\", 25000.0, 673897, \"http://vaka.me/673897\", \"Casa Da Sra. Loiva De Ol...\", 24650.0, 1.4, 986], [4, 370.0, \"2019-09-08\", \"2020-05-15\", 8500.0, 673829, \"http://vaka.me/673829\", \"Campanha Gean Em Madrid\", 8130.0, 4.352941, 326], [5, 1210.0, \"2019-09-08\", \"2019-12-30\", 5078.0, 673847, \"http://vaka.me/673847\", \"Cadeira Do Ismael \", 3868.0, 23.828279, 155], [6, 1400.0, \"2019-09-08\", \"2019-08-20\", 5000.0, 673848, \"http://vaka.me/673848\", \"Ajude Dr F\\u00e1bio\", 3600.0, 28.0, 144], [7, 150.0, \"2019-09-08\", \"2019-07-09\", 500.0, 673838, \"http://vaka.me/673838\", \"Salvem Meu Bichinho\", 350.0, 30.0, 14], [8, 1365.0, \"2019-09-08\", \"2019-09-09\", 20000.0, 673961, \"http://vaka.me/673961\", \"Ajuda A Igreja Icer Jard...\", 18635.0, 6.825, 746], [9, 525.0, \"2019-09-08\", \"2024-12-31\", 60000.0, 673904, \"http://vaka.me/673904\", \"Vamos Ajudar O Denis\", 59475.0, 0.875, 2379], [10, 75.0, \"2019-09-08\", \"2019-07-11\", 2020.0, 673976, \"http://vaka.me/673976\", \"Gatinho Atropelado Sangr...\", 1945.0, 3.712871, 78], [11, 200.0, \"2019-09-08\", \"2019-07-11\", 3000.0, 674032, \"http://vaka.me/674032\", \"Rumo Ao Jap\\u00e3o 2019\", 2800.0, 6.666667, 112], [12, 160.0, \"2019-09-08\", \"2019-07-11\", 450.0, 674077, \"http://vaka.me/674077\", \"Me Ajude Comprar Meu Rem...\", 290.0, 35.555556, 12], [13, 305.0, \"2019-09-08\", \"2019-07-09\", 500.0, 674107, \"http://vaka.me/674107\", \"Me Ajudem A Pagar O Mercado\", 195.0, 61.0, 8], [14, 1200.0, \"2019-09-08\", \"2020-01-30\", 30000.0, 674089, \"http://vaka.me/674089\", \"Trig\\u00eameos Maquinhos E Da...\", 28800.0, 4.0, 1152], [15, 470.0, \"2019-08-08\", \"2019-09-09\", 3000.0, 673139, \"http://vaka.me/673139\", \"Para Salvar Uma Vida De ...\", 2530.0, 15.666667, 102], [16, 180.0, \"2019-09-08\", \"2020-09-08\", 100000.0, 673183, \"http://vaka.me/673183\", \"Me Ajudem A Formar Em Me...\", 99820.0, 0.18, 3993], [17, 985.0, \"2019-08-08\", \"2019-07-11\", 4000.0, 673154, \"http://vaka.me/673154\", \"Benjamin O Gato Que N\\u00e3o ...\", 3015.0, 24.625, 121], [18, 150.0, \"2019-09-08\", \"2019-08-31\", 8000.0, 673169, \"http://vaka.me/673169\", \"Ajude Os Meninos Do Tost\\u00c3o\", 7850.0, 1.875, 314], [19, 860.0, \"2019-09-08\", \"2019-12-31\", 20000.0, 673882, \"http://vaka.me/673882\", \"Primeiro Ep+V\\u00eddeoclipes ...\", 19140.0, 4.3, 766], [20, 2303.0, \"2019-08-08\", \"2019-09-09\", 15000.0, 673132, \"http://vaka.me/673132\", \"Todos Pela Rebeca\\u2665\\ufe0f\", 12697.0, 15.353333, 508], [21, 18928.0, \"2019-09-08\", \"2019-09-09\", 30000.0, 673188, \"http://vaka.me/673188\", \"Juliano Serralheiro\", 11072.0, 63.093333, 443], [22, 105.0, \"2019-09-08\", \"2019-10-09\", 3000.0, 673203, \"http://vaka.me/673203\", \"Ajude A Jamds A Manter S...\", 2895.0, 3.5, 116], [23, 680.0, \"2019-09-08\", \"2019-09-09\", 18000.0, 673236, \"http://vaka.me/673236\", \"Gurizada De Santa Vit\\u00f3ri...\", 17320.0, 3.777778, 693], [24, 250.0, \"2019-09-08\", \"2019-09-09\", 1500.0, 673209, \"http://vaka.me/673209\", \"Um Novo Celular Para O Cris\", 1250.0, 16.666667, 50], [25, 450.0, \"2019-09-08\", \"2019-12-24\", 30000.0, 673273, \"http://vaka.me/673273\", \"Kombi Para Fazenda Recon...\", 29550.0, 1.5, 1182], [26, 355.0, \"2019-09-08\", \"2019-12-20\", 1000.0, 673290, \"http://vaka.me/673290\", \"Vaquinha Maria Do Socorr...\", 645.0, 35.5, 26], [27, 605.0, \"2019-09-08\", \"2019-10-20\", 5000.0, 673276, \"http://vaka.me/673276\", \"Precisamos De Ajuda Para...\", 4395.0, 12.1, 176], [28, 100.0, \"2019-09-08\", \"2019-10-10\", 12000.0, 673311, \"http://vaka.me/673311\", \"Ajude A Neuza Gon\\u00e7alves ...\", 11900.0, 0.833333, 476], [29, 250.0, \"2019-09-08\", \"2020-07-01\", 8000.0, 673343, \"http://vaka.me/673343\", \"Todos Por Maria Vit\\u00f3ria\", 7750.0, 3.125, 310], [30, 175.0, \"2019-09-08\", \"2019-12-15\", 13000.0, 673403, \"http://vaka.me/673403\", \"Compra De Ar Condicionad...\", 12825.0, 1.346154, 513], [31, 100.0, \"2019-09-08\", \"2019-07-12\", 1000.0, 673407, \"http://vaka.me/673407\", \"Ajuda A Pretinha \", 900.0, 10.0, 36], [32, 250.0, \"2019-09-08\", \"2019-07-10\", 3800.0, 673410, \"http://vaka.me/673410\", \"Ajude O Yan A Respirar M...\", 3550.0, 6.578947, 142], [33, 100.0, \"2019-09-08\", \"2019-01-10\", 5000.0, 673442, \"http://vaka.me/673442\", \"Um Lugar Pra Morar   Bru...\", 4900.0, 2.0, 196], [35, 145.0, \"2019-09-08\", \"2019-01-09\", 16000.0, 673303, \"http://vaka.me/673303\", \"Ajude Meus Cachorros A S...\", 15855.0, 0.90625, 635], [36, 600.0, \"2019-09-08\", \"2020-01-20\", 15000.0, 673385, \"http://vaka.me/673385\", \"Manu No Livorno In Danza...\", 14400.0, 4.0, 576], [37, 305.0, \"2019-09-08\", \"2019-07-11\", 1000.0, 673463, \"http://vaka.me/673463\", \"Salvem O Pedro Miau\", 695.0, 30.5, 28], [38, 190.0, \"2019-09-08\", \"2020-08-08\", 3000.0, 673453, \"http://vaka.me/673453\", \"Gatinho Picol\\u00e9\", 2810.0, 6.333333, 113], [39, 280.0, \"2019-09-08\", \"2019-08-22\", 3500.0, 673361, \"http://vaka.me/673361\", \"Ajudem O Ghabriel A Dan\\u00e7...\", 3220.0, 8.0, 129], [40, 160.0, \"2019-09-08\", \"2019-01-10\", 1120.0, 673469, \"http://vaka.me/673469\", \"Cirurgia Ortop\\u00e9dica Do P...\", 960.0, 14.285714, 39], [41, 75.0, \"2019-09-08\", \"2019-10-09\", 3500.0, 673383, \"http://vaka.me/673383\", \"Ajude O Adotado\", 3425.0, 2.142857, 137], [42, 150.0, \"2019-09-08\", \"2019-09-09\", 4000.0, 673471, \"http://vaka.me/673471\", \"Cpap Pra Nosso Amigo Ig\", 3850.0, 3.75, 154], [43, 3390.0, \"2019-09-08\", \"2019-12-31\", 95000.0, 673480, \"http://vaka.me/673480\", \"Arrecada\\u00e7\\u00e3o Inc\\u00eandio\", 91610.0, 3.568421, 3665], [44, 435.0, \"2019-09-08\", \"2019-08-31\", 600.0, 673492, \"http://vaka.me/673492\", \"Tratamento Do Chumbinho\", 165.0, 72.5, 7], [45, 350.0, \"2019-09-08\", \"2019-08-30\", 1350.0, 673515, \"http://vaka.me/673515\", \"Medica\\u00e7\\u00e3o Micofenolato\", 1000.0, 25.925926, 40], [46, 560.0, \"2019-09-08\", \"2019-07-12\", 4000.0, 673543, \"http://vaka.me/673543\", \"Ajude O Topper (Gatinho ...\", 3440.0, 14.0, 138], [47, 540.0, \"2019-09-08\", \"2019-07-11\", 660.0, 673565, \"http://vaka.me/673565\", \"Ajude A Toria (Vitoria)\", 120.0, 81.818182, 5], [48, 125.0, \"2019-09-08\", \"2019-09-09\", 8000.0, 673582, \"http://vaka.me/673582\", \"Ajudando Meu Sonho \", 7875.0, 1.5625, 315], [49, 1905.0, \"2019-09-08\", \"2019-07-11\", 60954.53, 673588, \"http://vaka.me/673588\", \"Rodrigo   Esclerose Amio...\", 59049.53, 3.12528, 2362], [50, 510.0, \"2019-09-08\", \"2019-10-30\", 2000.0, 673591, \"http://vaka.me/673591\", \"K\\u00c9zia Gift Show\", 1490.0, 25.5, 60], [51, 150.0, \"2019-09-08\", \"2019-10-15\", 15000.0, 673643, \"http://vaka.me/673643\", \"Ajude No Transplante Do ...\", 14850.0, 1.0, 594], [52, 600.0, \"2019-09-08\", \"2019-08-20\", 1000.0, 673676, \"http://vaka.me/673676\", \"Um Celular Para A Micha\", 400.0, 60.0, 16], [53, 5020.0, \"2019-09-08\", \"2019-09-09\", 15000.0, 673733, \"http://vaka.me/673733\", \"Ajude O Alexandre\", 9980.0, 33.466667, 400], [54, 190.0, \"2019-08-08\", \"2019-07-11\", 245.0, 673104, \"http://vaka.me/673104\", \"Ajude O Luke A Andar\", 55.0, 77.55102, 3], [55, 260.0, \"2019-08-08\", \"2019-12-31\", 70000.0, 672422, \"http://vaka.me/672422\", \"Olhar Com O Cora\\u00e7\\u00e3o\", 69740.0, 0.371429, 2790], [56, 210.0, \"2019-08-08\", \"2019-09-30\", 70000.0, 672448, \"http://vaka.me/672448\", \"Meu Caminh\\u00c3o Meu Ganha P\\u00c3o\", 69790.0, 0.3, 2792], [57, 200.0, \"2019-08-08\", \"2019-08-09\", 1200.0, 672001, \"http://vaka.me/672001\", \"Cirurgia Lucy\", 1000.0, 16.666667, 40], [58, 970.0, \"2019-08-08\", \"2020-01-30\", 5000.0, 672081, \"http://vaka.me/672081\", \"Juntos Pela Paulinha!! \\u2764\\ufe0f\", 4030.0, 19.4, 162], [59, 165.0, \"2019-08-08\", \"2019-12-25\", 5000.0, 672059, \"http://vaka.me/672059\", \"Amigo Kaeda \", 4835.0, 3.3, 194], [60, 100.0, \"2019-09-08\", \"2019-10-31\", 500.0, 673725, \"http://vaka.me/673725\", \"Unidos Pela Mayah\", 400.0, 20.0, 16], [61, 745.0, \"2019-08-08\", \"2019-12-08\", 915.0, 672117, \"http://vaka.me/672117\", \"Salvem O Woody\", 170.0, 81.420765, 7], [62, 525.0, \"2019-08-08\", \"2019-08-30\", 1200.0, 672142, \"http://vaka.me/672142\", \"Ajude Um Viajante\", 675.0, 43.75, 27], [63, 85.0, \"2019-08-08\", \"2019-06-09\", 500.0, 672149, \"http://vaka.me/672149\", \"Videoclipe \\\"Sou Eu\\\"\", 415.0, 17.0, 17], [64, 215.0, \"2019-08-08\", \"2019-08-10\", 15000.0, 672153, \"http://vaka.me/672153\", \"Ajude A Dona Rita\", 14785.0, 1.433333, 592], [65, 275.0, \"2019-08-08\", \"2019-08-09\", 3000.0, 672157, \"http://vaka.me/672157\", \"Resgate Do Doguinho\", 2725.0, 9.166667, 109], [66, 155.0, \"2019-08-08\", \"2019-06-11\", 10000.0, 672162, \"http://vaka.me/672162\", \"Cheia Em Jardim Atl\\u00e2ntico\", 9845.0, 1.55, 394], [67, 1455.0, \"2019-08-08\", \"2019-06-11\", 5000.0, 672167, \"http://vaka.me/672167\", \"Ajude A Fam\\u00edlia Da Talit...\", 3545.0, 29.1, 142], [68, 150.0, \"2019-08-08\", \"2019-08-29\", 2500.0, 672169, \"http://vaka.me/672169\", \"Ajude A Mana\", 2350.0, 6.0, 94], [69, 400.0, \"2019-08-08\", \"2019-12-10\", 10000.0, 672224, \"http://vaka.me/672224\", \"Crian\\u00e7as Da Invas\\u00e3o \", 9600.0, 4.0, 384], [70, 210.0, \"2019-08-08\", \"2019-10-10\", 1800.0, 672240, \"http://vaka.me/672240\", \"Miguel Fernando   Judoca\", 1590.0, 11.666667, 64], [71, 130.0, \"2019-08-08\", \"2019-06-11\", 1900.0, 672238, \"http://vaka.me/672238\", \"Maquina De Lavar Lar Bet...\", 1770.0, 6.842105, 71], [72, 170.0, \"2019-08-08\", \"2019-03-09\", 1900.0, 672274, \"http://vaka.me/672274\", \"Me Ajude A Participar Do...\", 1730.0, 8.947368, 70], [73, 200.0, \"2019-08-08\", \"2019-08-09\", 3000.0, 672279, \"http://vaka.me/672279\", \"Na Frequencia Da Arte\", 2800.0, 6.666667, 112], [74, 2630.0, \"2019-08-08\", \"2019-02-09\", 2640.0, 672297, \"http://vaka.me/672297\", \"Ajude O Chico! \", 10.0, 99.621212, 1], [75, 140.0, \"2019-08-08\", \"2019-06-09\", 800.0, 672339, \"http://vaka.me/672339\", \"Cama Hospitalar Para Idosas\", 660.0, 17.5, 27], [76, 905.0, \"2019-08-08\", \"2019-06-11\", 5000.0, 672315, \"http://vaka.me/672315\", \"Despesas M\\u00e9dicas\", 4095.0, 18.1, 164], [77, 770.0, \"2019-08-08\", \"2020-06-11\", 12000.0, 672412, \"http://vaka.me/672412\", \"Ajudar Um Anjo Chamado A...\", 11230.0, 6.416667, 450], [78, 115.0, \"2019-08-08\", \"2019-08-09\", 500.0, 672477, \"http://vaka.me/672477\", \"Vendas\", 385.0, 23.0, 16], [79, 400.0, \"2019-08-08\", \"2019-01-12\", 5000.0, 672488, \"http://vaka.me/672488\", \"Est\\u00fadio De Dan\\u00e7a.\", 4600.0, 8.0, 184], [80, 700.0, \"2019-08-08\", \"2019-08-09\", 500000.0, 672495, \"http://vaka.me/672495\", \"Todos Pelo Enzo\", 499300.0, 0.14, 19972], [81, 250.0, \"2019-08-08\", \"2019-08-09\", 700.0, 672121, \"http://vaka.me/672121\", \"Exames E Rem\\u00e9dios\", 450.0, 35.714286, 18], [82, 820.0, \"2019-08-08\", \"2020-08-09\", 2000.0, 672570, \"http://vaka.me/672570\", \"Ajuda Para A Faculdade \", 1180.0, 41.0, 48], [83, 175.0, \"2019-08-08\", \"2019-08-09\", 2000.0, 672572, \"http://vaka.me/672572\", \"Anna E Jo\\u00c3o Pastega Na S...\", 1825.0, 8.75, 73], [84, 125.0, \"2019-08-08\", \"2019-08-09\", 2000.0, 672317, \"http://vaka.me/672317\", \"Projeto Social Os Chilen...\", 1875.0, 6.25, 75], [85, 925.0, \"2019-08-08\", \"2019-08-09\", 20000.0, 672359, \"http://vaka.me/672359\", \"Quanto Vale A Vida Da Su...\", 19075.0, 4.625, 763], [86, 355.0, \"2019-08-08\", \"2019-08-11\", 10000.0, 672519, \"http://vaka.me/672519\", \"Ajude O Luiz\", 9645.0, 3.55, 386], [87, 135.0, \"2019-08-08\", \"2019-09-15\", 5000.0, 672575, \"http://vaka.me/672575\", \"A Viagem Dos Sonhos!\", 4865.0, 2.7, 195], [88, 250.0, \"2019-08-08\", \"2019-08-09\", 7500.0, 672534, \"http://vaka.me/672534\", \"Partiu Haiti\", 7250.0, 3.333333, 290], [89, 800.0, \"2019-08-08\", \"2019-08-20\", 9800.0, 672578, \"http://vaka.me/672578\", \"Trazendo O G\\u00e1s Para O La...\", 9000.0, 8.163265, 360], [90, 230.0, \"2019-08-08\", \"2019-08-09\", 15000.0, 672592, \"http://vaka.me/672592\", \"Campanha Kombi Nova\", 14770.0, 1.533333, 591], [91, 715.0, \"2019-08-08\", \"2019-01-12\", 15000.0, 672596, \"http://vaka.me/672596\", \"Preciso De Uma Cadeira D...\", 14285.0, 4.766667, 572], [92, 975.0, \"2019-08-08\", \"2019-12-30\", 6200.0, 672625, \"http://vaka.me/672625\", \"Tratamento Para Trombofi...\", 5225.0, 15.725806, 209], [93, 180.0, \"2019-08-08\", \"2019-08-31\", 370.0, 672637, \"http://vaka.me/672637\", \"C\\u00e3ozinho Bob Caramelo\", 190.0, 48.648649, 8], [94, 845.0, \"2019-08-08\", \"2019-08-30\", 4000.0, 672641, \"http://vaka.me/672641\", \"Minha M\\u00e3e Esta Com C\\u00e2nce...\", 3155.0, 21.125, 127], [96, 335.0, \"2019-08-08\", \"2019-08-31\", 1000.0, 672664, \"http://vaka.me/672664\", \"Ajude O Yodo A Viver\", 665.0, 33.5, 27], [97, 640.0, \"2019-08-08\", \"2019-08-09\", 2000.0, 672686, \"http://vaka.me/672686\", \"11\\u00b0 Festival De Bandas D...\", 1360.0, 32.0, 55], [98, 1595.0, \"2019-08-08\", \"2019-08-09\", 15000.0, 672725, \"http://vaka.me/672725\", \"Ajude A Maria A Lutar Co...\", 13405.0, 10.633333, 537], [99, 165.0, \"2019-08-08\", \"2019-01-09\", 500.0, 672750, \"http://vaka.me/672750\", \"Cirurgia Renal Para Pitoco\", 335.0, 33.0, 14], [100, 2060.0, \"2019-08-08\", \"2019-06-10\", 40000.0, 672662, \"http://vaka.me/672662\", \"Vamos Ajudar Nossa Amiga...\", 37940.0, 5.15, 1518], [101, 313.0, \"2019-07-08\", \"2019-07-09\", 2000.0, 671036, \"http://vaka.me/671036\", \"A\\u00e7\\u00f5es Sociais M\\u00e1gicas Sp...\", 1687.0, 15.65, 68], [102, 190.0, \"2019-07-08\", \"2019-08-31\", 1500.0, 671091, \"http://vaka.me/671091\", \"Ajudar Minha M\\u00e3e E Meu I...\", 1310.0, 12.666667, 53], [103, 690.0, \"2019-07-08\", \"2019-08-09\", 4000.0, 671056, \"http://vaka.me/671056\", \"Passagem Para O Mundial ...\", 3310.0, 17.25, 133], [104, 730.0, \"2019-07-08\", \"2019-11-30\", 500000.0, 671097, \"http://vaka.me/671097\", \"Arena Ta\\u00e7a Das Favelas\", 499270.0, 0.146, 19971], [105, 2470.0, \"2019-07-08\", \"2019-11-20\", 45000.0, 671101, \"http://vaka.me/671101\", \"Pr\\u00f3tese Para O Giovani\", 42530.0, 5.488889, 1702], [106, 655.0, \"2019-07-08\", \"2019-07-09\", 5000.0, 671102, \"http://vaka.me/671102\", \"Mundial Surfski Em Quibe...\", 4345.0, 13.1, 174], [107, 1285.0, \"2019-07-08\", \"2019-12-31\", 2000.0, 671105, \"http://vaka.me/671105\", \"Nano The Cat\", 715.0, 64.25, 29], [108, 575.0, \"2019-07-08\", \"2019-07-09\", 10000.0, 671147, \"http://vaka.me/671147\", \"Mat\\u00e9riais Odontologicos\", 9425.0, 5.75, 377], [109, 1390.0, \"2019-07-08\", \"2019-09-30\", 2500.0, 671150, \"http://vaka.me/671150\", \"Todos Pela Manuella\", 1110.0, 55.6, 45], [110, 400.0, \"2019-07-08\", \"2019-10-09\", 10000.0, 671159, \"http://vaka.me/671159\", \"Contribui\\u00c7\\u00c3o Solidaria A...\", 9600.0, 4.0, 384], [111, 285.0, \"2019-07-08\", \"2019-07-09\", 10000.0, 671167, \"http://vaka.me/671167\", \"Grande Calebe\", 9715.0, 2.85, 389], [112, 965.0, \"2019-07-08\", \"2019-12-31\", 14000.0, 671170, \"http://vaka.me/671170\", \"Ajude A J\\u00e9ssica Borges A...\", 13035.0, 6.892857, 522], [113, 380.0, \"2019-07-08\", \"2019-05-11\", 7000.0, 671225, \"http://vaka.me/671225\", \"Ajude O Bidu\", 6620.0, 5.428571, 265], [114, 355.0, \"2019-07-08\", \"2019-05-11\", 3000.0, 671212, \"http://vaka.me/671212\", \"Computador Intermedi\\u00e1rio...\", 2645.0, 11.833333, 106], [115, 85.0, \"2019-07-08\", \"2019-05-11\", 16000.0, 671228, \"http://vaka.me/671228\", \"\\u00c1gua Para Fam\\u00edlia Da Cris\", 15915.0, 0.53125, 637], [116, 450.0, \"2019-07-08\", \"2019-11-23\", 3300.0, 671247, \"http://vaka.me/671247\", \"Document\\u00e1rio Audiovisual...\", 2850.0, 13.636364, 114], [117, 595.0, \"2019-07-08\", \"2019-07-11\", 37293.8, 671116, \"http://vaka.me/671116\", \"Ajudando Uma Fam\\u00edlia A V...\", 36698.8, 1.595439, 1468], [118, 380.0, \"2019-07-08\", \"2019-05-12\", 20000.0, 671248, \"http://vaka.me/671248\", \"Ajuda Para Carlos Eduard...\", 19620.0, 1.9, 785], [119, 480.0, \"2019-07-08\", \"2019-11-25\", 2000.0, 671253, \"http://vaka.me/671253\", \"Equipamentos E Alimenta\\u00e7...\", 1520.0, 24.0, 61], [120, 200.0, \"2019-07-08\", \"2019-05-11\", 2500.0, 671267, \"http://vaka.me/671267\", \"Cirurgia Do Dodge\", 2300.0, 8.0, 92], [121, 3850.0, \"2019-07-08\", \"2019-10-10\", 4000.0, 671202, \"http://vaka.me/671202\", \"Vira Lata Atropelada\", 150.0, 96.25, 6], [122, 200.0, \"2019-07-08\", \"2020-05-30\", 25000.0, 671278, \"http://vaka.me/671278\", \"Est\\u00e1gio Na China \", 24800.0, 0.8, 992], [123, 200.0, \"2019-07-08\", \"2019-01-12\", 16000.0, 671279, \"http://vaka.me/671279\", \"Comprar Cadeira De Rodas...\", 15800.0, 1.25, 632], [124, 520.0, \"2019-07-08\", \"2019-07-09\", 10000.0, 671305, \"http://vaka.me/671305\", \"Ajuda \\u00e0 Policial Militar...\", 9480.0, 5.2, 380], [125, 175.0, \"2019-07-08\", \"2019-07-09\", 3000.0, 671364, \"http://vaka.me/671364\", \"Arthur Miguel \", 2825.0, 5.833333, 113], [126, 580.0, \"2019-07-08\", \"2019-01-10\", 4000.0, 671381, \"http://vaka.me/671381\", \"Maria Clara No Campeonat...\", 3420.0, 14.5, 137], [127, 520.0, \"2019-07-08\", \"2019-08-15\", 5000.0, 670930, \"http://vaka.me/670930\", \"Ajude No Tratamento De M...\", 4480.0, 10.4, 180], [128, 135.0, \"2019-07-08\", \"2019-07-09\", 850.0, 671383, \"http://vaka.me/671383\", \"Ajude O Lorenzo A Ser Op...\", 715.0, 15.882353, 29], [129, 1745.0, \"2019-07-08\", \"2020-09-15\", 2200.0, 671391, \"http://vaka.me/671391\", \"Cola\\u00c7\\u00c3o De Grau   Enf Un...\", 455.0, 79.318182, 19], [130, 1185.0, \"2019-07-08\", \"2020-10-08\", 10000.0, 671410, \"http://vaka.me/671410\", \"Preciso De Uma Cadeira N...\", 8815.0, 11.85, 353], [131, 280.0, \"2019-07-08\", \"2019-10-08\", 800.0, 671420, \"http://vaka.me/671420\", \"Urgente  Ajudem A Lila\", 520.0, 35.0, 21], [132, 205.0, \"2019-07-08\", \"2019-12-31\", 25000.0, 671471, \"http://vaka.me/671471\", \" Projeto Ponte Verde Pro...\", 24795.0, 0.82, 992], [133, 365.0, \"2019-07-08\", \"2019-01-10\", 2100.0, 671475, \"http://vaka.me/671475\", \"Welyngton Ferreira\", 1735.0, 17.380952, 70], [134, 330.0, \"2019-07-08\", \"2019-12-31\", 480.0, 671476, \"http://vaka.me/671476\", \"Ajuda A Guria (Ufrgs)\", 150.0, 68.75, 6], [135, 605.0, \"2019-07-08\", \"2019-07-09\", 30000.0, 671485, \"http://vaka.me/671485\", \"Um Lar Para Os Orfaos\", 29395.0, 2.016667, 1176], [137, 755.0, \"2019-07-08\", \"2019-01-10\", 3500.0, 671361, \"http://vaka.me/671361\", \"Peruca Pra Carlinha\", 2745.0, 21.571429, 110], [138, 1960.0, \"2019-07-08\", \"2019-05-09\", 20000.0, 671314, \"http://vaka.me/671314\", \"Perdi Minha Casa...\", 18040.0, 9.8, 722], [139, 250.0, \"2019-07-08\", \"2019-12-31\", 20000.0, 671502, \"http://vaka.me/671502\", \"Daiane \\u00e9 Tetrapl\\u00e9gica E ...\", 19750.0, 1.25, 790], [140, 180.0, \"2019-07-08\", \"2019-05-11\", 6500.0, 671507, \"http://vaka.me/671507\", \"Nicolle Agatha\", 6320.0, 2.769231, 253], [141, 1300.0, \"2019-07-08\", \"2019-10-10\", 45000.0, 671284, \"http://vaka.me/671284\", \"Amazonas Para Cristo   C...\", 43700.0, 2.888889, 1748], [142, 550.0, \"2019-07-08\", \"2019-12-30\", 10000.0, 671549, \"http://vaka.me/671549\", \"Lentes Para Tratamento D...\", 9450.0, 5.5, 378], [143, 275.0, \"2019-07-08\", \"2019-11-25\", 5000.0, 671583, \"http://vaka.me/671583\", \"Tratamento Veterin\\u00e1rio D...\", 4725.0, 5.5, 189], [144, 200.0, \"2019-06-08\", \"2020-12-12\", 1400.0, 670151, \"http://vaka.me/670151\", \"Formatura Veterin\\u00e1ria Ja...\", 1200.0, 14.285714, 48], [145, 1230.0, \"2019-06-08\", \"2019-09-30\", 3500.0, 670160, \"http://vaka.me/670160\", \"Cadeira De Rodas Para Juju\", 2270.0, 35.142857, 91], [146, 275.0, \"2019-06-08\", \"2024-07-20\", 20000.0, 670182, \"http://vaka.me/670182\", \"Aprovada Para Medicina N...\", 19725.0, 1.375, 789], [147, 170.0, \"2019-06-08\", \"2019-10-09\", 3500.0, 670188, \"http://vaka.me/670188\", \"Ajude O Fred A Voltar A ...\", 3330.0, 4.857143, 134], [148, 445.0, \"2019-06-08\", \"2019-05-11\", 1600.0, 670195, \"http://vaka.me/670195\", \"Ajude A Pagar A Cirurgia...\", 1155.0, 27.8125, 47], [149, 185.0, \"2019-06-08\", \"2019-05-11\", 300.0, 670221, \"http://vaka.me/670221\", \"Amputa\\u00e7\\u00e3o Do Beto\", 115.0, 61.666667, 5], [150, 335.0, \"2019-06-08\", \"2020-05-11\", 800.0, 670239, \"http://vaka.me/670239\", \"Recuperar O Carro Da Paty\", 465.0, 41.875, 19], [151, 105.0, \"2019-06-08\", \"2019-10-11\", 5000.0, 670249, \"http://vaka.me/670249\", \"Ajude O Pitter\", 4895.0, 2.1, 196], [152, 900.0, \"2019-07-08\", \"2019-07-09\", 3500.0, 670263, \"http://vaka.me/670263\", \"Tha\\u00eds Maduro No Sul Amer...\", 2600.0, 25.714286, 104], [153, 1595.0, \"2019-07-08\", \"2019-12-31\", 3000.0, 670266, \"http://vaka.me/670266\", \"Ajude A Isis \", 1405.0, 53.166667, 57], [154, 515.0, \"2019-07-08\", \"2019-07-09\", 68000.0, 670307, \"http://vaka.me/670307\", \"\\u201cAjuda Para O Roger\\u201d\", 67485.0, 0.757353, 2700], [155, 130.0, \"2019-07-08\", \"2019-06-11\", 20000.0, 671548, \"http://vaka.me/671548\", \"Ajude O Genilson A Retir...\", 19870.0, 0.65, 795], [156, 270.0, \"2019-07-08\", \"2019-05-11\", 1100.0, 670362, \"http://vaka.me/670362\", \"Ajude Na Recupera\\u00e7\\u00e3o Do ...\", 830.0, 24.545455, 34], [157, 300.0, \"2019-07-08\", \"2019-08-13\", 460.0, 670370, \"http://vaka.me/670370\", \"Ajude A Salvar Minha Gat...\", 160.0, 65.217391, 7], [158, 175.0, \"2019-07-08\", \"2019-10-09\", 1900.0, 670410, \"http://vaka.me/670410\", \"Laringe Eletr\\u00f4nica\", 1725.0, 9.210526, 69], [159, 105.0, \"2019-07-08\", \"2019-10-11\", 8000.0, 670403, \"http://vaka.me/670403\", \"Tradu\\u00e7\\u00e3o Da Tese Da Mar\\u00ed...\", 7895.0, 1.3125, 316], [160, 400.0, \"2019-07-08\", \"2019-05-11\", 10000.0, 670449, \"http://vaka.me/670449\", \"Ajude Gladistom Ferreira...\", 9600.0, 4.0, 384], [161, 155.0, \"2019-07-08\", \"2019-10-11\", 1000.0, 670459, \"http://vaka.me/670459\", \"Ajuda Para Pagar A Agua\", 845.0, 15.5, 34], [162, 1870.0, \"2019-07-08\", \"2019-07-10\", 25000.0, 670488, \"http://vaka.me/670488\", \"Rampa De Acesso E Banheiro \", 23130.0, 7.48, 926], [163, 655.0, \"2019-07-08\", \"2019-08-14\", 2500.0, 670491, \"http://vaka.me/670491\", \"Vakinha Pra Minina\", 1845.0, 26.2, 74], [164, 1050.0, \"2019-07-08\", \"2019-12-24\", 4000.0, 670496, \"http://vaka.me/670496\", \"91 Zc Continues To Give ...\", 2950.0, 26.25, 118], [165, 330.0, \"2019-07-08\", \"2019-07-09\", 2600.0, 670497, \"http://vaka.me/670497\", \"Ajude A Salvar O Fredy\", 2270.0, 12.692308, 91], [167, 430.0, \"2019-07-08\", \"2019-05-11\", 1000.0, 670515, \"http://vaka.me/670515\", \"Ajuda Para Dois Gatos Be...\", 570.0, 43.0, 23], [168, 625.0, \"2019-07-08\", \"2019-07-09\", 2000.0, 670512, \"http://vaka.me/670512\", \"Comprar O Implante Cocle...\", 1375.0, 31.25, 55], [169, 2216.0, \"2019-07-08\", \"2019-01-12\", 700000.0, 670529, \"http://vaka.me/670529\", \"Todos Pelo Breno\", 697784.0, 0.316571, 27912], [170, 725.0, \"2019-07-08\", \"2020-01-31\", 132574.0, 670532, \"http://vaka.me/670532\", \"Ajude O Marquinhos\", 131849.0, 0.546864, 5274], [171, 325.0, \"2019-07-08\", \"2019-07-09\", 2000.0, 670537, \"http://vaka.me/670537\", \"Caso De Doen\\u00e7a\", 1675.0, 16.25, 67], [172, 150.0, \"2019-07-08\", \"2019-07-09\", 3500.0, 670564, \"http://vaka.me/670564\", \"D\\u00e9bora De Azevedo Prata\", 3350.0, 4.285714, 134], [173, 450.0, \"2019-07-08\", \"2019-05-12\", 3000.0, 670589, \"http://vaka.me/670589\", \"Sos Simba\", 2550.0, 15.0, 102], [174, 24300.0, \"2019-07-08\", \"2019-07-09\", 32000.0, 670590, \"http://vaka.me/670590\", \"Marginal Br 277 Km 583\", 7700.0, 75.9375, 308], [177, 300.0, \"2019-07-08\", \"2019-08-24\", 1000.0, 670518, \"http://vaka.me/670518\", \"Arrecada\\u00e7\\u00e3o De Materiais \", 700.0, 30.0, 28], [178, 130.0, \"2019-07-08\", \"2019-08-20\", 3000.0, 670602, \"http://vaka.me/670602\", \"Venezuela Em Fotos\", 2870.0, 4.333333, 115], [179, 1103.0, \"2019-07-08\", \"2019-01-09\", 2000.0, 670611, \"http://vaka.me/670611\", \"Ajude O Felipe\", 897.0, 55.15, 36], [180, 9105.0, \"2019-07-08\", \"2019-05-10\", 50000.0, 670613, \"http://vaka.me/670613\", \"Todos Pela Cura Da Renata\", 40895.0, 18.21, 1636], [181, 525.0, \"2019-07-08\", \"2019-05-10\", 10000.0, 670640, \"http://vaka.me/670640\", \"For\\u00e7a Maia\", 9475.0, 5.25, 379], [182, 275.0, \"2019-07-08\", \"2019-09-20\", 15000.0, 670626, \"http://vaka.me/670626\", \"Concluir Os Estudos\", 14725.0, 1.833333, 589], [183, 175.0, \"2019-07-08\", \"2019-08-15\", 500.0, 670662, \"http://vaka.me/670662\", \"Ajudem A Dani\", 325.0, 35.0, 13], [184, 1330.0, \"2019-07-08\", \"2019-05-11\", 2500.0, 670575, \"http://vaka.me/670575\", \"Pagar O Aluguel Do Uber\", 1170.0, 53.2, 47], [185, 14295.0, \"2019-07-08\", \"2019-05-11\", 240000.0, 670673, \"http://vaka.me/670673\", \"Marianne  Luta Pela Vida...\", 225705.0, 5.95625, 9029], [186, 105.0, \"2019-07-08\", \"2020-05-01\", 2000.0, 670688, \"http://vaka.me/670688\", \"Vakinha Da Mazikeen\", 1895.0, 5.25, 76], [187, 400.0, \"2019-07-08\", \"2019-07-09\", 20000.0, 670716, \"http://vaka.me/670716\", \"S\\u00e9rgio Souza \", 19600.0, 2.0, 784], [188, 2265.0, \"2019-07-08\", \"2019-12-31\", 30000.0, 670729, \"http://vaka.me/670729\", \"Reconstru\\u00e7\\u00e3o Para Meda W...\", 27735.0, 7.55, 1110], [189, 1180.0, \"2019-07-08\", \"2019-09-30\", 12000.0, 670782, \"http://vaka.me/670782\", \"Ajude A Ju Se Formar \", 10820.0, 9.833333, 433], [191, 325.0, \"2019-06-08\", \"2019-06-09\", 1000.0, 669401, \"http://vaka.me/669401\", \"Livro De Ouro Formatura ...\", 675.0, 32.5, 27], [192, 150.0, \"2019-06-08\", \"2019-04-11\", 400.0, 669404, \"http://vaka.me/669404\", \"York Idosa \", 250.0, 37.5, 10], [193, 100.0, \"2019-07-08\", \"2019-07-09\", 3000.0, 670635, \"http://vaka.me/670635\", \"Pista De Slide   Curitiba \", 2900.0, 3.333333, 116], [194, 355.0, \"2019-06-08\", \"2019-09-13\", 2000.0, 669426, \"http://vaka.me/669426\", \"Cuidados De Fred\", 1645.0, 17.75, 66], [195, 200.0, \"2019-06-08\", \"2019-08-15\", 2000.0, 669427, \"http://vaka.me/669427\", \"\\\" Ajudem Lupita \\\" \", 1800.0, 10.0, 72], [196, 1950.0, \"2019-07-08\", \"2019-05-11\", 7650.0, 670646, \"http://vaka.me/670646\", \"Vamos Ajudar Sr Paulo!!\", 5700.0, 25.490196, 228], [197, 350.0, \"2019-07-08\", \"2019-05-10\", 1000.0, 670653, \"http://vaka.me/670653\", \"Base Do Projeto Mission\\u00e1...\", 650.0, 35.0, 26], [198, 280.0, \"2019-06-08\", \"2019-09-15\", 1000.0, 669437, \"http://vaka.me/669437\", \"Princesa E Tinho\", 720.0, 28.0, 29], [199, 2485.0, \"2019-06-08\", \"2019-04-11\", 9000.0, 669444, \"http://vaka.me/669444\", \"Ajuda Para Spike\", 6515.0, 27.611111, 261], [200, 600.0, \"2019-06-08\", \"2019-06-09\", 2000.0, 669443, \"http://vaka.me/669443\", \"Compra De Uma Touca Para...\", 1400.0, 30.0, 56], [201, 493.0, \"2019-06-08\", \"2019-08-14\", 1190.0, 669433, \"http://vaka.me/669433\", \"Anivers\\u00e1rio Vov\\u00f3\", 697.0, 41.428571, 28], [202, 1100.0, \"2019-06-08\", \"2019-06-09\", 10000.0, 669498, \"http://vaka.me/669498\", \"Quita\\u00e7\\u00e3o De D\\u00edvidas Foci...\", 8900.0, 11.0, 356], [203, 1160.0, \"2019-06-08\", \"2019-04-11\", 10000.0, 669462, \"http://vaka.me/669462\", \"Ajude O Rafinha!\", 8840.0, 11.6, 354], [204, 925.0, \"2019-06-08\", \"2019-09-30\", 20500.0, 669509, \"http://vaka.me/669509\", \" Na Luta Contra O C\\u00e2ncer...\", 19575.0, 4.512195, 783], [205, 350.0, \"2019-06-08\", \"2019-12-31\", 10000.0, 669516, \"http://vaka.me/669516\", \"Vaquinha Para R\\u00e1dio Onda...\", 9650.0, 3.5, 386], [206, 355.0, \"2019-06-08\", \"2019-04-11\", 20000.0, 669529, \"http://vaka.me/669529\", \"Ajude Meu Beb\\u00ea Andar\", 19645.0, 1.775, 786], [207, 639.0, \"2019-06-08\", \"2019-06-09\", 7000.0, 669555, \"http://vaka.me/669555\", \"Ajuda Para Concertar Min...\", 6361.0, 9.128571, 255], [208, 325.0, \"2019-06-08\", \"2019-06-09\", 10000.0, 669559, \"http://vaka.me/669559\", \"Ajude Alice\", 9675.0, 3.25, 387], [209, 250.0, \"2019-06-08\", \"2019-01-12\", 5000.0, 669565, \"http://vaka.me/669565\", \"Lan\\u00e7amento Do Livro  \", 4750.0, 5.0, 190], [211, 405.0, \"2019-06-08\", \"2020-06-12\", 2680.0, 669569, \"http://vaka.me/669569\", \"Cirurgia Ortop\\u00e9dica Para...\", 2275.0, 15.11194, 91], [212, 580.0, \"2019-06-08\", \"2021-10-08\", 22000.0, 669598, \"http://vaka.me/669598\", \"Tratamento De Alopecia C...\", 21420.0, 2.636364, 857], [213, 2030.0, \"2019-06-08\", \"2019-06-09\", 100000.0, 669599, \"http://vaka.me/669599\", \"Ajude Na Reforma Da Nova...\", 97970.0, 2.03, 3919], [215, 200.0, \"2019-06-08\", \"2019-01-10\", 12000.0, 669557, \"http://vaka.me/669557\", \"World Mathematics Team C...\", 11800.0, 1.666667, 472], [216, 630.0, \"2019-06-08\", \"2019-08-30\", 3000.0, 669636, \"http://vaka.me/669636\", \"Projeto Jap\\u00e3o\", 2370.0, 21.0, 95], [217, 5935.0, \"2019-06-08\", \"2019-04-11\", 8000.0, 669637, \"http://vaka.me/669637\", \"Ajudemos A Aleska\", 2065.0, 74.1875, 83], [218, 150.0, \"2019-06-08\", \"2019-04-09\", 1100.0, 669638, \"http://vaka.me/669638\", \"Por Favor Ajudem O Guilh...\", 950.0, 13.636364, 38], [219, 500.0, \"2019-06-08\", \"2019-08-15\", 15000.0, 669646, \"http://vaka.me/669646\", \"Ajudando A Vanessa\", 14500.0, 3.333333, 580], [220, 275.0, \"2019-06-08\", \"2019-10-15\", 2140.0, 669639, \"http://vaka.me/669639\", \"Projeto  Gabi   Miss Plu...\", 1865.0, 12.850467, 75], [221, 190.0, \"2019-06-08\", \"2019-12-31\", 3000.0, 669558, \"http://vaka.me/669558\", \"Um Sonho De Conectividade \", 2810.0, 6.333333, 113], [222, 275.0, \"2019-06-08\", \"2019-08-30\", 3000.0, 669666, \"http://vaka.me/669666\", \"Projeto Jap\\u00e3o\", 2725.0, 9.166667, 109], [223, 800.0, \"2019-06-08\", \"2019-06-09\", 5000.0, 669692, \"http://vaka.me/669692\", \"Pneus Novos Para Amai\", 4200.0, 16.0, 168], [224, 225.0, \"2019-06-08\", \"2019-12-20\", 10000.0, 669665, \"http://vaka.me/669665\", \"Estou Precisando Muito D...\", 9775.0, 2.25, 391], [225, 1400.0, \"2019-06-08\", \"2019-06-09\", 2000.0, 669698, \"http://vaka.me/669698\", \"Ajude A Gatinha \", 600.0, 70.0, 24], [226, 300.0, \"2019-06-08\", \"2019-08-26\", 5000.0, 669699, \"http://vaka.me/669699\", \"Ra\\u00e7\\u00e3o Para Animais Aband...\", 4700.0, 6.0, 188], [227, 550.0, \"2019-06-08\", \"2020-01-06\", 15000.0, 669708, \"http://vaka.me/669708\", \"Kaike Na Su\\u00e9cia!\", 14450.0, 3.666667, 578], [229, 584.77, \"2019-06-08\", \"2019-08-18\", 3000.0, 669719, \"http://vaka.me/669719\", \"Brasileiro Sub 13   Mari...\", 2415.23, 19.492333, 97], [230, 6065.0, \"2019-06-08\", \"2019-04-11\", 20000.0, 669723, \"http://vaka.me/669723\", \"Ajudem A Marluana\", 13935.0, 30.325, 558], [231, 910.0, \"2019-06-08\", \"2019-06-09\", 1800.0, 669781, \"http://vaka.me/669781\", \"Kira Pede Sua Ajuda!\", 890.0, 50.555556, 36], [232, 85.0, \"2019-06-08\", \"2020-04-20\", 3000.0, 669785, \"http://vaka.me/669785\", \"Por Que N\\u00c3o Do Meu Jeito...\", 2915.0, 2.833333, 117], [233, 200.0, \"2019-06-08\", \"2019-06-09\", 19000.0, 669777, \"http://vaka.me/669777\", \"Protese Transtibial Para...\", 18800.0, 1.052632, 752], [234, 325.0, \"2019-06-08\", \"2019-06-09\", 800.0, 669837, \"http://vaka.me/669837\", \"Rem\\u00e9dio Para O Pretinho\", 475.0, 40.625, 19], [235, 380.0, \"2019-06-08\", \"2019-12-10\", 15000.0, 669842, \"http://vaka.me/669842\", \"Festa De Er\\u00ca Da Tenda Es...\", 14620.0, 2.533333, 585], [236, 155.0, \"2019-06-08\", \"2019-06-09\", 1000.0, 669846, \"http://vaka.me/669846\", \"Nos Ajudem A Comprar Nos...\", 845.0, 15.5, 34], [237, 400.0, \"2019-06-08\", \"2019-01-12\", 230000.0, 669677, \"http://vaka.me/669677\", \"Em Busca De Ajuda Para M...\", 229600.0, 0.173913, 9184], [238, 475.0, \"2019-06-08\", \"2019-06-09\", 500.0, 669872, \"http://vaka.me/669872\", \"Ajude A Amelie \", 25.0, 95.0, 1], [239, 1635.0, \"2019-06-08\", \"2020-04-03\", 30000.0, 669799, \"http://vaka.me/669799\", \"Pr\\u00f3tese Para Perna Marce...\", 28365.0, 5.45, 1135], [240, 2555.0, \"2019-06-08\", \"2022-04-25\", 300000.0, 669399, \"http://vaka.me/669399\", \"Pr\\u00f3teses Para Bia\", 297445.0, 0.851667, 11898], [241, 300.0, \"2019-06-08\", \"2019-10-16\", 9800.0, 669786, \"http://vaka.me/669786\", \"Cadeira De Rodas Motoriz...\", 9500.0, 3.061224, 380], [242, 170.0, \"2019-05-08\", \"2019-06-12\", 7200.0, 668370, \"http://vaka.me/668370\", \"Me Ajudem A Ajudar Os Me...\", 7030.0, 2.361111, 282], [243, 2747.0, \"2019-05-08\", \"2019-04-11\", 12000.0, 668418, \"http://vaka.me/668418\", \"Ajude O Anjos De Focinho \", 9253.0, 22.891667, 371], [244, 4530.0, \"2019-05-08\", \"2019-04-11\", 20000.0, 668473, \"http://vaka.me/668473\", \"Todos Em Ajuda Do Cris(N...\", 15470.0, 22.65, 619], [245, 620.0, \"2019-06-08\", \"2019-06-09\", 1200.0, 669878, \"http://vaka.me/669878\", \"Reabrir A Yuca\", 580.0, 51.666667, 24], [246, 3890.98, \"2019-05-08\", \"2019-06-11\", 16000.0, 668493, \"http://vaka.me/668493\", \"Um Lar Para O Alvino\", 12109.02, 24.318625, 485], [247, 1200.0, \"2019-05-08\", \"2019-09-20\", 10000.0, 668515, \"http://vaka.me/668515\", \"Ajude Jos\\u00e9 A Continuar E...\", 8800.0, 12.0, 352], [248, 360.0, \"2019-05-08\", \"2019-10-09\", 10000.0, 668581, \"http://vaka.me/668581\", \"Vamos Ajudar A Realizar ...\", 9640.0, 3.6, 386], [249, 115.0, \"2019-05-08\", \"2019-06-09\", 1500.0, 668589, \"http://vaka.me/668589\", \"Lully Precisa Operar\", 1385.0, 7.666667, 56], [250, 1775.0, \"2019-05-08\", \"2019-04-11\", 8200.0, 668604, \"http://vaka.me/668604\", \"Ajuda De Custo Para Estudo\", 6425.0, 21.646341, 257], [251, 245.0, \"2019-05-08\", \"2019-06-09\", 20000.0, 668598, \"http://vaka.me/668598\", \"Aben\\u00e7oando Minha V\\u00f3zinha\", 19755.0, 1.225, 791], [252, 260.0, \"2019-05-08\", \"2019-11-20\", 510.0, 668626, \"http://vaka.me/668626\", \"Rematr\\u00edcula Da Faculdade \", 250.0, 50.980392, 10], [253, 560.0, \"2019-05-08\", \"2019-04-11\", 600.0, 668638, \"http://vaka.me/668638\", \"Castra\\u00e7\\u00e3o Jade Infec\\u00e7\\u00e3o ...\", 40.0, 93.333333, 2], [255, 3985.0, \"2019-05-08\", \"2019-06-11\", 30000.0, 668641, \"http://vaka.me/668641\", \"Quita\\u00c7\\u00c3o De D\\u00cdvidas Vete...\", 26015.0, 13.283333, 1041], [256, 200.0, \"2019-06-08\", \"2019-04-11\", 800.0, 668660, \"http://vaka.me/668660\", \"Augusto\", 600.0, 25.0, 24], [258, 26140.0, \"2019-06-08\", \"2019-11-30\", 95000.0, 668671, \"http://vaka.me/668671\", \"Me Ajude A Formar!\", 68860.0, 27.515789, 2755], [259, 255.0, \"2019-06-08\", \"2019-09-13\", 5000.0, 668704, \"http://vaka.me/668704\", \"Fa\\u00e7a Acontecer O Festiva...\", 4745.0, 5.1, 190], [260, 1170.0, \"2019-05-08\", \"2019-08-31\", 10000.0, 668534, \"http://vaka.me/668534\", \"Fa\\u00e7a Sua Parte, Os Adole...\", 8830.0, 11.7, 354], [261, 12300.0, \"2019-06-08\", \"2019-04-11\", 20000.0, 668717, \"http://vaka.me/668717\", \"Solidariedade Com O Prof...\", 7700.0, 61.5, 308], [262, 135.0, \"2019-06-08\", \"2019-09-23\", 3000.0, 668780, \"http://vaka.me/668780\", \"Ajude Luis Guilherme A E...\", 2865.0, 4.5, 115], [263, 270.0, \"2019-06-08\", \"2019-09-18\", 10000.0, 668836, \"http://vaka.me/668836\", \"Cirurgia Do Seu Valdemar\", 9730.0, 2.7, 390], [264, 2405.0, \"2019-06-08\", \"2019-06-09\", 489794.0, 668790, \"http://vaka.me/668790\", \"Arrecada\\u00e7\\u00e3o Para Cuidado...\", 487389.0, 0.491023, 19496], [265, 75.0, \"2019-05-08\", \"2019-03-11\", 30000.0, 668347, \"http://vaka.me/668347\", \"Procuro Servi\\u00c7os\", 29925.0, 0.25, 1197], [266, 75.0, \"2019-06-08\", \"2020-02-29\", 15000.0, 668891, \"http://vaka.me/668891\", \"Para Realizar Um Sonho\", 14925.0, 0.5, 597], [269, 175.0, \"2019-06-08\", \"2019-04-11\", 3000.0, 668923, \"http://vaka.me/668923\", \"Theo Com Cinomose \", 2825.0, 5.833333, 113], [270, 80.0, \"2019-06-08\", \"2019-06-09\", 5000.0, 668956, \"http://vaka.me/668956\", \"Anivers\\u00e1rio, Casamento E...\", 4920.0, 1.6, 197], [271, 390.0, \"2019-06-08\", \"2019-09-15\", 5000.0, 668845, \"http://vaka.me/668845\", \"Ocupa\\u00e7\\u00e3o Ov\\u00e1rias   Quart...\", 4610.0, 7.8, 185], [272, 300.0, \"2019-06-08\", \"2019-01-09\", 1000.0, 668848, \"http://vaka.me/668848\", \"Enxoval Do Kael\", 700.0, 30.0, 28], [273, 270.0, \"2019-06-08\", \"2019-06-09\", 2000.0, 668886, \"http://vaka.me/668886\", \"Vaquinha Para Meg E Seus...\", 1730.0, 13.5, 70], [274, 155.0, \"2019-06-08\", \"2019-12-31\", 10000.0, 668812, \"http://vaka.me/668812\", \"Moto Furtada \", 9845.0, 1.55, 394], [275, 175.0, \"2019-06-08\", \"2019-04-11\", 2000.0, 668896, \"http://vaka.me/668896\", \"Ajuda!!!\", 1825.0, 8.75, 73], [276, 2880.0, \"2019-06-08\", \"2019-04-11\", 10000.0, 669027, \"http://vaka.me/669027\", \"Ajudar O Professor Marcos\", 7120.0, 28.8, 285], [277, 1045.0, \"2019-06-08\", \"2019-04-11\", 5000.0, 668954, \"http://vaka.me/668954\", \"Amputa\\u00e7\\u00e3o De Perna De Um...\", 3955.0, 20.9, 159], [278, 1030.0, \"2019-06-08\", \"2019-08-21\", 1670.0, 669036, \"http://vaka.me/669036\", \"Cirurgia Da Lili    Irid...\", 640.0, 61.676647, 26], [279, 575.0, \"2019-06-08\", \"2019-06-09\", 2000.0, 668980, \"http://vaka.me/668980\", \"Ajuda Para O Nick\", 1425.0, 28.75, 57], [280, 540.0, \"2019-06-08\", \"2019-06-09\", 90000.0, 669053, \"http://vaka.me/669053\", \"Projeto Vem Com A Gente,...\", 89460.0, 0.6, 3579], [281, 275.0, \"2019-05-08\", \"2019-10-09\", 2500.0, 667666, \"http://vaka.me/667666\", \"Ajude A Luna\", 2225.0, 11.0, 89], [282, 230.0, \"2019-05-08\", \"2019-03-08\", 1500.0, 667675, \"http://vaka.me/667675\", \"Vamos Ajudar O Chico\", 1270.0, 15.333333, 51], [283, 3355.0, \"2019-05-08\", \"2019-07-09\", 7000.0, 667682, \"http://vaka.me/667682\", \"Motociclistas Solid\\u00e1rios\", 3645.0, 47.928571, 146], [284, 700.0, \"2019-05-08\", \"2019-05-09\", 10000.0, 667693, \"http://vaka.me/667693\", \"Todos Pelo J\\u00dalio\", 9300.0, 7.0, 372], [285, 590.0, \"2019-05-08\", \"2020-01-01\", 5000.0, 667750, \"http://vaka.me/667750\", \"Todos Com Marcos\", 4410.0, 11.8, 177], [286, 645.0, \"2019-06-08\", \"2019-04-11\", 12000.0, 668986, \"http://vaka.me/668986\", \"Ajude Este Sr A Voltar P...\", 11355.0, 5.375, 455], [287, 290.0, \"2019-05-08\", \"2019-11-30\", 2000.0, 667754, \"http://vaka.me/667754\", \"Ajude O Garoto\", 1710.0, 14.5, 69], [288, 550.0, \"2019-05-08\", \"2019-05-10\", 1000.0, 667745, \"http://vaka.me/667745\", \"Vamos Ajudar A Lyara??\", 450.0, 55.0, 18], [289, 1060.0, \"2019-05-08\", \"2019-05-09\", 141600.0, 667761, \"http://vaka.me/667761\", \"Curso De Culin\\u00e1ria (Le C...\", 140540.0, 0.748588, 5622], [290, 225.0, \"2019-05-08\", \"2019-10-08\", 21000.0, 667785, \"http://vaka.me/667785\", \"Chapa 2 Reconstru\\u00e7\\u00e3o, Pr...\", 20775.0, 1.071429, 831], [291, 385.0, \"2019-05-08\", \"2019-08-16\", 3000.0, 667763, \"http://vaka.me/667763\", \"Ajudando A Artista Maria...\", 2615.0, 12.833333, 105], [292, 585.0, \"2019-05-08\", \"2019-11-20\", 15000.0, 667783, \"http://vaka.me/667783\", \"Ajude A Fam\\u00edlia Guterres\", 14415.0, 3.9, 577], [293, 1505.0, \"2019-05-08\", \"2019-05-12\", 2800.0, 667678, \"http://vaka.me/667678\", \"Cirurgia \", 1295.0, 53.75, 52], [294, 77.0, \"2019-05-08\", \"2019-12-31\", 1000.0, 667798, \"http://vaka.me/667798\", \"Rifa Solid\\u00e1ria 1\", 923.0, 7.7, 37], [295, 275.0, \"2019-05-08\", \"2019-05-09\", 5000.0, 667684, \"http://vaka.me/667684\", \"Cirurgia De Amputa\\u00e7\\u00e3o \", 4725.0, 5.5, 189], [296, 1840.0, \"2019-05-08\", \"2019-05-11\", 5000.0, 667787, \"http://vaka.me/667787\", \"Cirurgia Da Zez\\u00e9\", 3160.0, 36.8, 127], [297, 125.0, \"2019-05-08\", \"2019-05-09\", 4000.0, 667803, \"http://vaka.me/667803\", \"Juntos Pela Samantha\", 3875.0, 3.125, 155], [298, 870.0, \"2019-05-08\", \"2019-08-20\", 1500.0, 667826, \"http://vaka.me/667826\", \"Ajude O Simba\", 630.0, 58.0, 26], [299, 1065.0, \"2019-05-08\", \"2019-03-11\", 50000.0, 667810, \"http://vaka.me/667810\", \"Todos Pelo Manoel .\", 48935.0, 2.13, 1958], [300, 100.0, \"2019-05-08\", \"2020-04-30\", 50000.0, 667827, \"http://vaka.me/667827\", \"Ajude A Reconstru\\u00e7\\u00e3o Do ...\", 49900.0, 0.2, 1996], [301, 805.0, \"2019-05-08\", \"2019-01-09\", 9000.0, 667838, \"http://vaka.me/667838\", \"Ajude O Grupo De Dan\\u00e7a D...\", 8195.0, 8.944444, 328], [302, 1160.0, \"2019-05-08\", \"2019-10-15\", 2400.0, 667856, \"http://vaka.me/667856\", \"Projeto Taquinhos\", 1240.0, 48.333333, 50], [303, 260.0, \"2019-05-08\", \"2019-01-10\", 3000.0, 667873, \"http://vaka.me/667873\", \"Ajude A Formar Um Atleta\", 2740.0, 8.666667, 110], [304, 600.0, \"2019-05-08\", \"2019-08-25\", 1500.0, 667881, \"http://vaka.me/667881\", \"Apoio A Atletas Surdos D...\", 900.0, 40.0, 36], [305, 6530.0, \"2019-05-08\", \"2019-01-09\", 12000.0, 667888, \"http://vaka.me/667888\", \"Uma V\\u00e1lvula Para Bernarda\", 5470.0, 54.416667, 219], [306, 1175.0, \"2019-05-08\", \"2019-10-30\", 8000.0, 667908, \"http://vaka.me/667908\", \"Participa\\u00e7\\u00e3o De Jovens C...\", 6825.0, 14.6875, 273], [307, 1205.0, \"2019-05-08\", \"2020-12-31\", 10000.0, 667845, \"http://vaka.me/667845\", \"Ajuda Pro King Ficar Bem...\", 8795.0, 12.05, 352], [308, 1600.0, \"2019-05-08\", \"2019-10-13\", 10000.0, 667876, \"http://vaka.me/667876\", \"Ajude Algu\\u00e9m Com Leucemia\", 8400.0, 16.0, 336], [309, 75.0, \"2019-05-08\", \"2019-05-09\", 800.0, 667934, \"http://vaka.me/667934\", \"Ajude Minha M\\u00e3e\", 725.0, 9.375, 29], [310, 180.0, \"2019-05-08\", \"2019-08-20\", 25000.0, 667942, \"http://vaka.me/667942\", \"Preciso De Ajuda Para Um...\", 24820.0, 0.72, 993], [311, 345.0, \"2019-05-08\", \"2019-12-08\", 1000.0, 667948, \"http://vaka.me/667948\", \"Circuito Brasileiro Em S...\", 655.0, 34.5, 27], [312, 230.0, \"2019-05-08\", \"2019-01-10\", 6000.0, 667952, \"http://vaka.me/667952\", \"Rifa Open Bar Canino\", 5770.0, 3.833333, 231], [313, 125.0, \"2019-05-08\", \"2019-06-09\", 6000.0, 668009, \"http://vaka.me/668009\", \"Precisamos De Ajuda Para...\", 5875.0, 2.083333, 235], [314, 3750.0, \"2019-05-08\", \"2019-03-11\", 4000.0, 667962, \"http://vaka.me/667962\", \"Ajudem O Heitorzinho\", 250.0, 93.75, 10], [315, 165.0, \"2019-05-08\", \"2019-07-08\", 20000.0, 668018, \"http://vaka.me/668018\", \"Ajuda Solidaria\", 19835.0, 0.825, 794], [316, 3795.0, \"2019-05-08\", \"2019-07-08\", 4000.0, 668034, \"http://vaka.me/668034\", \"Dentista Para O Thiaguinho\", 205.0, 94.875, 9], [317, 700.0, \"2019-05-08\", \"2019-11-24\", 20000.0, 668036, \"http://vaka.me/668036\", \"Ajude A Financiar O Dap ...\", 19300.0, 3.5, 772], [318, 230.0, \"2019-05-08\", \"2019-08-15\", 1500.0, 668043, \"http://vaka.me/668043\", \"Ajude A Blue\", 1270.0, 15.333333, 51], [319, 250.0, \"2019-05-08\", \"2019-11-15\", 8000.0, 668048, \"http://vaka.me/668048\", \"Inc\\u00eandio Fam\\u00edlia Pellini\", 7750.0, 3.125, 310], [320, 1550.0, \"2019-05-08\", \"2019-03-09\", 3000.0, 668052, \"http://vaka.me/668052\", \"Exames Do Victor\", 1450.0, 51.666667, 58], [321, 200.0, \"2019-05-08\", \"2019-10-09\", 7000.0, 668054, \"http://vaka.me/668054\", \"Rumo A Milset Mundo\", 6800.0, 2.857143, 272], [322, 350.0, \"2019-05-08\", \"2019-05-09\", 3000.0, 668058, \"http://vaka.me/668058\", \"Viagem Da Manu A Argenti...\", 2650.0, 11.666667, 106], [323, 2565.0, \"2019-05-08\", \"2019-10-11\", 5000.0, 668066, \"http://vaka.me/668066\", \"Todos Pelo Gustavo\", 2435.0, 51.3, 98], [324, 130.0, \"2019-04-08\", \"2019-08-30\", 300.0, 667039, \"http://vaka.me/667039\", \"Reforma Do Quartinho\", 170.0, 43.333333, 7], [325, 550.0, \"2019-04-08\", \"2019-10-09\", 2000.0, 666862, \"http://vaka.me/666862\", \"Eu Tenho Um Sonho:  Mulh...\", 1450.0, 27.5, 58], [327, 625.0, \"2019-04-08\", \"2019-07-12\", 100000.0, 666920, \"http://vaka.me/666920\", \"Uma Casa Para A Belinha\", 99375.0, 0.625, 3975], [328, 175.0, \"2019-04-08\", \"2019-08-09\", 19000.0, 666933, \"http://vaka.me/666933\", \"Democratizar O Mundo Da ...\", 18825.0, 0.921053, 753], [329, 700.0, \"2019-04-08\", \"2019-05-09\", 5000.0, 666960, \"http://vaka.me/666960\", \"Ajuda Para O Tratamento ...\", 4300.0, 14.0, 172], [330, 195.0, \"2019-04-08\", \"2019-05-12\", 10000.0, 666972, \"http://vaka.me/666972\", \"Pr\\u00f3tese Ortop\\u00e9dica Trans...\", 9805.0, 1.95, 393], [331, 155.0, \"2019-04-08\", \"2019-08-25\", 500.0, 666977, \"http://vaka.me/666977\", \"Campeonato Brasileiro De...\", 345.0, 31.0, 14], [332, 560.0, \"2019-04-08\", \"2019-03-11\", 7500.0, 667012, \"http://vaka.me/667012\", \"Ajudem A Nina\", 6940.0, 7.466667, 278], [333, 810.0, \"2019-04-08\", \"2019-05-12\", 8000.0, 667027, \"http://vaka.me/667027\", \"Ajuda No Tratamento Do M...\", 7190.0, 10.125, 288], [334, 420.0, \"2019-04-08\", \"2019-02-11\", 10000.0, 666855, \"http://vaka.me/666855\", \"Ajuda, Exames Cora\\u00e7\\u00e3o E ...\", 9580.0, 4.2, 384], [335, 2715.0, \"2019-04-08\", \"2019-08-21\", 15000.0, 666873, \"http://vaka.me/666873\", \"Rifa Do Cau\\u00ea   Moto Hond...\", 12285.0, 18.1, 492], [336, 288.0, \"2019-04-08\", \"2019-08-31\", 2000.0, 666900, \"http://vaka.me/666900\", \"Me Ajude A Apresentar Me...\", 1712.0, 14.4, 69], [337, 450.0, \"2019-04-08\", \"2019-10-09\", 40000.0, 667029, \"http://vaka.me/667029\", \"Projeto Cor Alegre\", 39550.0, 1.125, 1582], [338, 550.0, \"2019-04-08\", \"2019-05-12\", 1000.0, 667037, \"http://vaka.me/667037\", \"Ajude O Alfredo\", 450.0, 55.0, 18], [339, 1280.0, \"2019-04-08\", \"2019-11-15\", 5000.0, 666983, \"http://vaka.me/666983\", \"Mundial De Trampolim Em ...\", 3720.0, 25.6, 149], [340, 555.0, \"2019-04-08\", \"2019-10-08\", 1500.0, 667056, \"http://vaka.me/667056\", \"Interna\\u00e7\\u00e3o E Medicamento...\", 945.0, 37.0, 38], [341, 105.0, \"2019-04-08\", \"2019-05-09\", 700.0, 667007, \"http://vaka.me/667007\", \"Salvem A Nina \\ud83d\\ude4f\", 595.0, 15.0, 24], [342, 735.0, \"2019-04-08\", \"2019-03-11\", 4000.0, 667066, \"http://vaka.me/667066\", \"Cirurgia Edu \", 3265.0, 18.375, 131], [343, 100.0, \"2019-04-08\", \"2019-10-28\", 30000.0, 667070, \"http://vaka.me/667070\", \"Bailarinas De Floripa No...\", 29900.0, 0.333333, 1196], [344, 5245.0, \"2019-04-08\", \"2019-10-30\", 9000.0, 667078, \"http://vaka.me/667078\", \"Jc Demolidor Das Estradas\", 3755.0, 58.277778, 151], [345, 275.0, \"2019-04-08\", \"2019-03-11\", 1221.0, 667102, \"http://vaka.me/667102\", \"Em Mem\\u00f3ria Do Gato Chalita\", 946.0, 22.522523, 38], [346, 410.0, \"2019-04-08\", \"2019-01-10\", 12000.0, 667111, \"http://vaka.me/667111\", \"Todos Pela Sophia Vit\\u00f3ria\", 11590.0, 3.416667, 464], [347, 1395.0, \"2019-04-08\", \"2019-12-31\", 15900.0, 667156, \"http://vaka.me/667156\", \"O Sonho De Ser M\\u00e3e \", 14505.0, 8.773585, 581], [348, 600.0, \"2019-05-08\", \"2019-08-31\", 2000.0, 667214, \"http://vaka.me/667214\", \"#Partiu Portugal\", 1400.0, 30.0, 56], [349, 115.0, \"2019-05-08\", \"2022-12-25\", 3000.0, 667216, \"http://vaka.me/667216\", \"Ajudar Minha Filha Valen...\", 2885.0, 3.833333, 116], [351, 840.0, \"2019-04-08\", \"2019-09-13\", 85600.0, 667040, \"http://vaka.me/667040\", \"Centen\\u00e1rio De Martim Gon...\", 84760.0, 0.981308, 3391], [352, 150.0, \"2019-05-08\", \"2019-05-09\", 15000.0, 667324, \"http://vaka.me/667324\", \"Pai E Filha V\\u00edtimas De I...\", 14850.0, 1.0, 594], [353, 175.0, \"2019-04-08\", \"2019-05-09\", 14000.0, 667053, \"http://vaka.me/667053\", \"Etec Rumo A Su\\u00c9cia 2019 ...\", 13825.0, 1.25, 553], [354, 80.0, \"2019-05-08\", \"2020-10-01\", 10000.0, 667245, \"http://vaka.me/667245\", \"Minha M\\u00e3e Est\\u00e1 Com Prola...\", 9920.0, 0.8, 397], [355, 465.0, \"2019-05-08\", \"2019-09-30\", 2500.0, 667345, \"http://vaka.me/667345\", \"Passagem Do Yure\", 2035.0, 18.6, 82], [356, 325.0, \"2019-05-08\", \"2019-03-11\", 7000.0, 667358, \"http://vaka.me/667358\", \"Treinador De Marcha\", 6675.0, 4.642857, 267], [357, 1590.0, \"2019-05-08\", \"2019-12-31\", 12000.0, 667329, \"http://vaka.me/667329\", \"Uma M\\u00e3ozinha Para Cal\\u00fazia\", 10410.0, 13.25, 417], [358, 170.0, \"2019-05-08\", \"2019-01-10\", 3000.0, 667364, \"http://vaka.me/667364\", \"Cirurgia De Piometria Na...\", 2830.0, 5.666667, 114], [359, 550.0, \"2019-05-08\", \"2019-09-20\", 2901.21, 667365, \"http://vaka.me/667365\", \"Preciso Me Mudar Com Urg...\", 2351.21, 18.957607, 95], [360, 500.0, \"2019-05-08\", \"2019-03-11\", 2890.0, 667367, \"http://vaka.me/667367\", \"Ajude O Henry \", 2390.0, 17.301038, 96], [361, 340.0, \"2019-05-08\", \"2019-01-09\", 2000.0, 667386, \"http://vaka.me/667386\", \"Cirurgia De Mand\\u00edbula Qu...\", 1660.0, 17.0, 67], [362, 330.0, \"2019-05-08\", \"2019-09-15\", 3500.0, 667360, \"http://vaka.me/667360\", \"Lente De Contato Um Ato ...\", 3170.0, 9.428571, 127], [363, 155.0, \"2019-05-08\", \"2019-07-12\", 8000.0, 667217, \"http://vaka.me/667217\", \"Andr\\u00c9 J\\u00danior,Luta Contra...\", 7845.0, 1.9375, 314], [364, 775.0, \"2019-03-08\", \"2019-10-31\", 1230.0, 665806, \"http://vaka.me/665806\", \"Tchau, Khaleesi ):\", 455.0, 63.00813, 19], [365, 1525.0, \"2019-05-08\", \"2019-06-10\", 8000.0, 667287, \"http://vaka.me/667287\", \"Ajuda Para Institui\\u00e7\\u00e3o D...\", 6475.0, 19.0625, 259], [366, 505.0, \"2019-03-08\", \"2019-01-09\", 3000.0, 665824, \"http://vaka.me/665824\", \"Volta Dg!!\", 2495.0, 16.833333, 100], [367, 130.0, \"2019-03-08\", \"2019-09-30\", 800.0, 665831, \"http://vaka.me/665831\", \"Ajude Pretinha \\u2764\\ud83d\\udc36\", 670.0, 16.25, 27], [368, 105.0, \"2019-03-08\", \"2020-01-05\", 20000.0, 665858, \"http://vaka.me/665858\", \"Contra O C\\u00e2ncer... Um At...\", 19895.0, 0.525, 796], [369, 550.0, \"2019-03-08\", \"2019-01-11\", 10000.0, 665847, \"http://vaka.me/665847\", \"Ajude A Fam\\u00edlia Da Monic...\", 9450.0, 5.5, 378], [370, 800.0, \"2019-03-08\", \"2019-01-11\", 4000.0, 665871, \"http://vaka.me/665871\", \"O Vidda Precisa Da Sua A...\", 3200.0, 20.0, 128], [371, 1015.0, \"2019-03-08\", \"2019-08-15\", 1200.0, 665875, \"http://vaka.me/665875\", \"Cirurgia Emergencial Da ...\", 185.0, 84.583333, 8], [373, 740.0, \"2019-03-08\", \"2020-03-11\", 5000.0, 665914, \"http://vaka.me/665914\", \"Ajuda Para O Meu Tratame...\", 4260.0, 14.8, 171], [374, 150.0, \"2019-03-08\", \"2019-01-11\", 3100.0, 665908, \"http://vaka.me/665908\", \"Vamos Ajudar Recruta?\", 2950.0, 4.83871, 118], [375, 375.0, \"2019-03-08\", \"2019-03-09\", 6000.0, 665916, \"http://vaka.me/665916\", \"Opera\\u00e7\\u00e3o Do Pesco\\u00e7o Do Am\\u00f3s\", 5625.0, 6.25, 225], [376, 425.0, \"2019-05-08\", \"2019-08-25\", 500.0, 667409, \"http://vaka.me/667409\", \"Cirurgia De Otohematoma ...\", 75.0, 85.0, 3], [377, 350.0, \"2019-03-08\", \"2019-03-09\", 4000.0, 665980, \"http://vaka.me/665980\", \"Torneio Crossfit Brasil\", 3650.0, 8.75, 146], [379, 650.0, \"2019-03-08\", \"2019-04-10\", 5000.0, 666020, \"http://vaka.me/666020\", \"Constru\\u00e7\\u00e3o Do Espa\\u00e7o De ...\", 4350.0, 13.0, 174], [380, 1665.0, \"2019-03-08\", \"2019-02-10\", 6000.0, 665966, \"http://vaka.me/665966\", \"Ajude O Cadu\", 4335.0, 27.75, 174], [381, 210.0, \"2019-03-08\", \"2019-02-11\", 700.0, 665996, \"http://vaka.me/665996\", \"Me Ajude A Ajudar\", 490.0, 30.0, 20], [382, 255.0, \"2019-03-08\", \"2019-03-12\", 1500.0, 666042, \"http://vaka.me/666042\", \"Cirurgia Da Meg\", 1245.0, 17.0, 50], [383, 676.96, \"2019-03-08\", \"2019-02-12\", 10000.0, 666032, \"http://vaka.me/666032\", \"Ajude A Salvar Minha Fam...\", 9323.04, 6.7696, 373], [384, 1520.0, \"2019-03-08\", \"2019-08-31\", 5000.0, 666089, \"http://vaka.me/666089\", \"Livro Do Arte\\ud83d\\udcda\\u2764\\ufe0f\", 3480.0, 30.4, 140], [385, 100.0, \"2019-03-08\", \"2019-04-09\", 2900.0, 666036, \"http://vaka.me/666036\", \"Dente Do Felipinho\", 2800.0, 3.448276, 112], [386, 1840.0, \"2019-03-08\", \"2019-09-30\", 2000.0, 665878, \"http://vaka.me/665878\", \"Desigualdade De G\\u00eanero E...\", 160.0, 92.0, 7], [387, 400.0, \"2019-03-08\", \"2019-02-11\", 5870.0, 666097, \"http://vaka.me/666097\", \"Campanha Para Ajudar Fam...\", 5470.0, 6.81431, 219], [388, 3190.0, \"2019-04-08\", \"2019-09-20\", 8000.0, 666142, \"http://vaka.me/666142\", \"Sophia Ayla \\\"Extraordin\\u00e1...\", 4810.0, 39.875, 193], [389, 1110.0, \"2019-04-08\", \"2019-02-11\", 5000.0, 666196, \"http://vaka.me/666196\", \"Juntos Pela Clara\", 3890.0, 22.2, 156], [390, 640.0, \"2019-04-08\", \"2019-09-15\", 2000.0, 666223, \"http://vaka.me/666223\", \"Um Djembe Para A Lu\", 1360.0, 32.0, 55], [391, 260.0, \"2019-04-08\", \"2020-01-01\", 10000.0, 666302, \"http://vaka.me/666302\", \"Sos Luna\", 9740.0, 2.6, 390], [392, 225.0, \"2019-04-08\", \"2019-08-20\", 3000.0, 666283, \"http://vaka.me/666283\", \"Ajuda Para Pagamento De ...\", 2775.0, 7.5, 111], [393, 530.0, \"2019-04-08\", \"2019-08-15\", 6000.0, 666304, \"http://vaka.me/666304\", \"Samy\", 5470.0, 8.833333, 219], [394, 355.0, \"2019-04-08\", \"2019-12-31\", 2400.0, 666368, \"http://vaka.me/666368\", \"Precisando De Um Andador...\", 2045.0, 14.791667, 82], [395, 400.01, \"2019-04-08\", \"2019-01-09\", 1500.0, 666409, \"http://vaka.me/666409\", \"Mudan\\u00e7a Do Itim \", 1099.99, 26.667333, 44], [396, 225.0, \"2019-04-08\", \"2019-12-29\", 18000.0, 666404, \"http://vaka.me/666404\", \"Comprar Pr\\u00f3tese\", 17775.0, 1.25, 711], [397, 325.0, \"2019-03-08\", \"2019-09-14\", 15000.0, 666056, \"http://vaka.me/666056\", \"Paulo Na Escuela Reina S...\", 14675.0, 2.166667, 587], [398, 3098.33, \"2019-04-08\", \"2019-04-09\", 10000.0, 666465, \"http://vaka.me/666465\", \"Vel\\u00f3rio Da Nossa Querida...\", 6901.67, 30.9833, 277], [399, 2975.0, \"2019-04-08\", \"2019-10-30\", 18000.0, 666471, \"http://vaka.me/666471\", \"Ajude O M\\u00e1rio!\", 15025.0, 16.527778, 601], [400, 330.0, \"2019-04-08\", \"2019-06-09\", 9000.0, 666475, \"http://vaka.me/666475\", \"Livro Infinitude Do Ser\", 8670.0, 3.666667, 347], [401, 300.0, \"2019-04-08\", \"2019-12-31\", 500.0, 666477, \"http://vaka.me/666477\", \"Consulta E Exames Do Joca\", 200.0, 60.0, 8], [402, 770.0, \"2019-04-08\", \"2019-04-09\", 2000.0, 666315, \"http://vaka.me/666315\", \"Fabrica\\u00e7\\u00e3o E Entrega De ...\", 1230.0, 38.5, 50], [403, 150.0, \"2019-04-08\", \"2019-11-08\", 5000.0, 666419, \"http://vaka.me/666419\", \"Todos Por Linguinha\", 4850.0, 3.0, 194], [404, 550.0, \"2019-04-08\", \"2019-12-31\", 2000.0, 666482, \"http://vaka.me/666482\", \"Nevralgia\", 1450.0, 27.5, 58], [405, 125.0, \"2019-04-08\", \"2019-09-15\", 3000.0, 666371, \"http://vaka.me/666371\", \"Ajuda Financeira Para Co...\", 2875.0, 4.166667, 115], [406, 130.0, \"2019-04-08\", \"2019-10-20\", 2000.0, 666497, \"http://vaka.me/666497\", \"Todos Pela Bruna \", 1870.0, 6.5, 75], [407, 940.0, \"2019-04-08\", \"2019-05-11\", 6000.0, 666501, \"http://vaka.me/666501\", \"Cantinho Pede Socorro\", 5060.0, 15.666667, 203], [408, 1650.0, \"2019-04-08\", \"2019-04-09\", 11000.0, 666533, \"http://vaka.me/666533\", \"Tratamento Diego\", 9350.0, 15.0, 374], [409, 450.0, \"2019-04-08\", \"2019-04-11\", 70000.0, 666581, \"http://vaka.me/666581\", \"Todos Pelo Renan\", 69550.0, 0.642857, 2782], [410, 310.0, \"2019-04-08\", \"2019-07-09\", 3000.0, 666608, \"http://vaka.me/666608\", \"2\\u00ba Curso De Seguran\\u00e7a P\\u00fa...\", 2690.0, 10.333333, 108], [411, 105.0, \"2019-04-08\", \"2019-12-31\", 5000.0, 666610, \"http://vaka.me/666610\", \"Amigos Dos Animais De Ru...\", 4895.0, 2.1, 196], [412, 315.0, \"2019-04-08\", \"2019-09-20\", 1500.0, 666617, \"http://vaka.me/666617\", \"Campeonato Brasileiro De...\", 1185.0, 21.0, 48], [413, 1957.32, \"2019-04-08\", \"2020-01-12\", 10000.0, 666660, \"http://vaka.me/666660\", \"Pessoal Ajudem Salvar Mi...\", 8042.68, 19.5732, 322], [414, 14825.0, \"2019-04-08\", \"2019-03-09\", 17168.0, 666735, \"http://vaka.me/666735\", \"Um Passo Para A Paraolim...\", 2343.0, 86.352516, 94], [415, 875.0, \"2019-04-08\", \"2019-02-11\", 15548.8, 666722, \"http://vaka.me/666722\", \"Vamos Ajudar O Th\\u00e9o \", 14673.8, 5.627444, 587], [416, 275.0, \"2019-04-08\", \"2019-02-11\", 10000.0, 666741, \"http://vaka.me/666741\", \"Material De Trabalho Rou...\", 9725.0, 2.75, 389], [418, 335.0, \"2019-04-08\", \"2019-10-09\", 3950.0, 666553, \"http://vaka.me/666553\", \"Precisamos Adquirir Noss...\", 3615.0, 8.481013, 145], [419, 750.0, \"2019-04-08\", \"2019-01-12\", 4000.0, 666698, \"http://vaka.me/666698\", \"Ajudando O Lukinha \", 3250.0, 18.75, 130], [420, 100.0, \"2019-02-08\", \"2019-12-14\", 6000.0, 664817, \"http://vaka.me/664817\", \"Meninos Sub 10 Da Br Fut...\", 5900.0, 1.666667, 236], [421, 700.0, \"2019-02-08\", \"2019-02-09\", 2500.0, 664799, \"http://vaka.me/664799\", \"Nosso Ch\\u00e1 De Panela\", 1800.0, 28.0, 72], [422, 340.0, \"2019-04-08\", \"2019-12-25\", 5000.0, 666662, \"http://vaka.me/666662\", \"Faixas + Audiovisual Do ...\", 4660.0, 6.8, 187], [423, 155.0, \"2019-04-08\", \"2019-02-11\", 2000.0, 666696, \"http://vaka.me/666696\", \"Projeto Estabilidade\", 1845.0, 7.75, 74], [424, 260.0, \"2019-02-08\", \"2019-03-09\", 1000.0, 664873, \"http://vaka.me/664873\", \"Despesas Com Tratamento ...\", 740.0, 26.0, 30], [425, 105.0, \"2019-02-08\", \"2019-01-12\", 2000.0, 664881, \"http://vaka.me/664881\", \"Qualidade De Vida\", 1895.0, 5.25, 76], [426, 235.0, \"2019-02-08\", \"2020-01-12\", 15000.0, 664883, \"http://vaka.me/664883\", \"Mastectomia\", 14765.0, 1.566667, 591], [427, 125.0, \"2019-03-08\", \"2019-03-09\", 5000.0, 664895, \"http://vaka.me/664895\", \"Despesas Campeonato Bras...\", 4875.0, 2.5, 195], [428, 690.0, \"2019-03-08\", \"2019-10-08\", 1500.0, 664898, \"http://vaka.me/664898\", \"Whisky Teve As Pernas De...\", 810.0, 46.0, 33], [429, 100.0, \"2019-03-08\", \"2019-01-11\", 17460.0, 664907, \"http://vaka.me/664907\", \"Uma Causa Pela Taila \", 17360.0, 0.572738, 695], [430, 230.0, \"2019-03-08\", \"2019-08-31\", 1200.0, 664913, \"http://vaka.me/664913\", \"Ajuda Para A Kita\", 970.0, 19.166667, 39], [431, 1860.0, \"2019-03-08\", \"2019-11-20\", 6000.0, 665039, \"http://vaka.me/665039\", \"Lan\\u00e7amento De Livros De ...\", 4140.0, 31.0, 166], [432, 700.0, \"2019-03-08\", \"2019-10-24\", 2500.0, 665057, \"http://vaka.me/665057\", \"Todos Juntos Contra A P\\u00d3lio\", 1800.0, 28.0, 72], [433, 275.0, \"2019-03-08\", \"2019-08-15\", 22000.0, 665061, \"http://vaka.me/665061\", \"Ajude Eliel Alzir!\", 21725.0, 1.25, 869], [434, 350.0, \"2019-03-08\", \"2019-01-11\", 5000.0, 664976, \"http://vaka.me/664976\", \"Juju Saiu Do C\\u00e1rcere, Ag...\", 4650.0, 7.0, 186], [435, 250.0, \"2019-03-08\", \"2019-03-09\", 700.0, 665122, \"http://vaka.me/665122\", \"Sonho Do Meu Filho \", 450.0, 35.714286, 18], [436, 150.0, \"2019-03-08\", \"2019-10-20\", 1000.0, 665123, \"http://vaka.me/665123\", \"Copa Brasil De Bmx 2019\", 850.0, 15.0, 34], [437, 1475.0, \"2019-03-08\", \"2019-08-15\", 13000.0, 665149, \"http://vaka.me/665149\", \"Ajude Esses 3 Irm\\u00e3os Ree...\", 11525.0, 11.346154, 461], [438, 110.0, \"2019-03-08\", \"2020-01-12\", 3500.0, 665162, \"http://vaka.me/665162\", \"Ajuda Ao Beily\", 3390.0, 3.142857, 136], [440, 930.0, \"2019-03-08\", \"2019-08-20\", 1800.0, 665205, \"http://vaka.me/665205\", \"Ajuda Para Alimenta\\u00e7\\u00e3o 2...\", 870.0, 51.666667, 35], [441, 235.0, \"2019-02-08\", \"2020-01-12\", 2150.0, 664824, \"http://vaka.me/664824\", \"Precisamos De Ajuda Para...\", 1915.0, 10.930233, 77], [442, 975.0, \"2019-03-08\", \"2019-08-15\", 1500.0, 665097, \"http://vaka.me/665097\", \"Icaro Vai Jogar Handebol...\", 525.0, 65.0, 21], [443, 400.0, \"2019-03-08\", \"2019-01-11\", 10000.0, 665219, \"http://vaka.me/665219\", \"Comprar Alimentos E Sald...\", 9600.0, 4.0, 384], [444, 180.0, \"2019-03-08\", \"2019-01-12\", 2500.0, 665243, \"http://vaka.me/665243\", \"Yuri Dias (#Juntospeloyuri)\", 2320.0, 7.2, 93], [445, 150.0, \"2019-03-08\", \"2019-10-31\", 10000.0, 665251, \"http://vaka.me/665251\", \" Iago   Jogador Profissi...\", 9850.0, 1.5, 394], [446, 475.0, \"2019-03-08\", \"2019-10-10\", 6000.0, 665195, \"http://vaka.me/665195\", \"Cinema Na Escola\", 5525.0, 7.916667, 221], [448, 375.0, \"2019-03-08\", \"2019-12-08\", 600.0, 665354, \"http://vaka.me/665354\", \"Ajudar A Salvar A Vida D...\", 225.0, 62.5, 9], [449, 160.0, \"2019-03-08\", \"2020-12-31\", 70000.0, 665220, \"http://vaka.me/665220\", \"Constru\\u00e7\\u00e3o Wing Chun Kun...\", 69840.0, 0.228571, 2794], [450, 305.0, \"2019-03-08\", \"2019-03-09\", 1000.0, 665355, \"http://vaka.me/665355\", \"Forma Lady !\", 695.0, 30.5, 28], [451, 150.0, \"2019-03-08\", \"2019-10-20\", 7000.0, 665365, \"http://vaka.me/665365\", \"Quero Me Tornar Uma Fot\\u00f3...\", 6850.0, 2.142857, 274], [452, 15820.0, \"2019-03-08\", \"2019-12-30\", 40000.0, 665379, \"http://vaka.me/665379\", \"Todos Por Davi Lessa\", 24180.0, 39.55, 968], [453, 1915.0, \"2019-03-08\", \"2019-01-12\", 50000.0, 665380, \"http://vaka.me/665380\", \"Ajude O Lucas\", 48085.0, 3.83, 1924], [454, 450.0, \"2019-03-08\", \"2019-01-09\", 3500.0, 665407, \"http://vaka.me/665407\", \"Ajude Com Uma C\\u00e2mera Par...\", 3050.0, 12.857143, 122], [456, 2845.0, \"2019-03-08\", \"2019-01-11\", 80000.0, 665222, \"http://vaka.me/665222\", \"Rem\\u00c9dio Tri\\u00d3xido De Ars\\u00canio\", 77155.0, 3.55625, 3087], [457, 525.0, \"2019-03-08\", \"2021-01-02\", 15000.0, 665294, \"http://vaka.me/665294\", \"Obo\\u00e9 Do Giovanni\", 14475.0, 3.5, 579], [458, 750.0, \"2019-03-08\", \"2019-01-09\", 5500.0, 665233, \"http://vaka.me/665233\", \"Ajude A Fazer A Cirurgia...\", 4750.0, 13.636364, 190], [459, 325.0, \"2019-02-08\", \"2019-10-31\", 900.0, 664087, \"http://vaka.me/664087\", \"Ajude O Guerreiro \", 575.0, 36.111111, 23], [460, 100.0, \"2019-03-08\", \"2019-11-30\", 1000.0, 665115, \"http://vaka.me/665115\", \"Ajude Os C\\u00e3ezinhos De Rua\", 900.0, 10.0, 36], [461, 225.0, \"2019-02-08\", \"2019-12-31\", 6000.0, 664095, \"http://vaka.me/664095\", \"Cirurgia Do Michel\", 5775.0, 3.75, 231], [462, 3410.0, \"2019-03-08\", \"2019-03-12\", 22000.0, 665417, \"http://vaka.me/665417\", \"Cirurgia De Dbs Para Ali...\", 18590.0, 15.5, 744], [463, 155.0, \"2019-02-08\", \"2019-08-20\", 1000.0, 664122, \"http://vaka.me/664122\", \"Rifa Atleta Exames\", 845.0, 15.5, 34], [464, 180.0, \"2019-02-08\", \"2019-10-31\", 500.0, 664123, \"http://vaka.me/664123\", \"Ajude A Gesta\\u00e7\\u00e3o Da Pret...\", 320.0, 36.0, 13], [465, 415.0, \"2019-02-08\", \"2019-10-31\", 5000.0, 664125, \"http://vaka.me/664125\", \"Fam\\u00edlia Perde Casa Incen...\", 4585.0, 8.3, 184], [466, 1170.0, \"2019-02-08\", \"2019-10-31\", 8000.0, 664066, \"http://vaka.me/664066\", \"Sos Cineasta   Ajude O G...\", 6830.0, 14.625, 274], [467, 530.0, \"2019-02-08\", \"2019-10-31\", 7000.0, 664132, \"http://vaka.me/664132\", \"Tratamento Da Aninha\", 6470.0, 7.571429, 259], [468, 150.0, \"2019-02-08\", \"2019-10-31\", 15000.0, 664147, \"http://vaka.me/664147\", \"Vamos Ajudar Abel Voltar...\", 14850.0, 1.0, 594], [469, 400.0, \"2019-02-08\", \"2020-12-31\", 12000.0, 664156, \"http://vaka.me/664156\", \"Acampantes Para O A.M.O.\", 11600.0, 3.333333, 464], [470, 250.0, \"2019-02-08\", \"2019-01-10\", 1000.0, 664173, \"http://vaka.me/664173\", \"Me Ajude A Chegar Em Bra...\", 750.0, 25.0, 30], [471, 330.0, \"2019-02-08\", \"2019-02-09\", 3000.0, 664168, \"http://vaka.me/664168\", \"Camera Nova Para Os Irm\\u00e3...\", 2670.0, 11.0, 107], [472, 150.0, \"2019-02-08\", \"2019-02-09\", 16000.0, 664199, \"http://vaka.me/664199\", \"Preciso Da Sua Ajuda \\u2757\", 15850.0, 0.9375, 634], [473, 250.0, \"2019-02-08\", \"2019-10-30\", 10000.0, 664202, \"http://vaka.me/664202\", \"Tratamento De Sa\\u00fade Doen...\", 9750.0, 2.5, 390], [474, 710.0, \"2019-02-08\", \"2019-08-26\", 1100.0, 664242, \"http://vaka.me/664242\", \"Leve A Bio Ciclo Para O ...\", 390.0, 64.545455, 16], [475, 200.0, \"2019-02-08\", \"2019-02-09\", 4000.0, 664246, \"http://vaka.me/664246\", \"Reforma No Gol Do Mago D...\", 3800.0, 5.0, 152], [476, 130.0, \"2019-02-08\", \"2019-01-12\", 10000.0, 664210, \"http://vaka.me/664210\", \"Ajude No Tratamento Do C...\", 9870.0, 1.3, 395], [477, 305.0, \"2019-02-08\", \"2019-10-31\", 3000.0, 664307, \"http://vaka.me/664307\", \"A\\u00e7\\u00e3o Solid\\u00e1ria \", 2695.0, 10.166667, 108], [478, 850.0, \"2019-02-08\", \"2019-02-09\", 1500.0, 664348, \"http://vaka.me/664348\", \"Pense Com Carinho . . . ...\", 650.0, 56.666667, 26], [479, 400.0, \"2019-02-08\", \"2019-10-31\", 2500.0, 664295, \"http://vaka.me/664295\", \"Vaquinha Da Vov\\u00f3 \", 2100.0, 16.0, 84], [480, 400.0, \"2019-02-08\", \"2019-02-09\", 25000.0, 664378, \"http://vaka.me/664378\", \"Vaquinha Do Jo\\u00e3o ! Nos A...\", 24600.0, 1.6, 984], [481, 10233.0, \"2019-02-08\", \"2019-03-09\", 25000.0, 664181, \"http://vaka.me/664181\", \"Ajude A Cidade Escola Ayni\", 14767.0, 40.932, 591], [483, 252.0, \"2019-02-08\", \"2019-02-10\", 4000.0, 664340, \"http://vaka.me/664340\", \"Ajude A Luli Voltar A An...\", 3748.0, 6.3, 150]]};\n",
       "        dt_args = eval_functions(dt_args);\n",
       "        table = $('#ca70c983-a114-46e9-8fd9-000f9235e6c4').DataTable(dt_args);\n",
       "    });\n",
       "})\n",
       "</script>\n",
       "</div>\n"
      ],
      "text/plain": [
       "<IPython.core.display.HTML object>"
      ]
     },
     "metadata": {},
     "output_type": "display_data"
    }
   ],
   "source": [
    "from itables import show\n",
    "\n",
    "show(df)"
   ]
  }
 ],
 "metadata": {
  "kernelspec": {
   "display_name": "Python 3",
   "language": "python",
   "name": "python3"
  },
  "language_info": {
   "codemirror_mode": {
    "name": "ipython",
    "version": 3
   },
   "file_extension": ".py",
   "mimetype": "text/x-python",
   "name": "python",
   "nbconvert_exporter": "python",
   "pygments_lexer": "ipython3",
   "version": "3.7.3"
  }
 },
 "nbformat": 4,
 "nbformat_minor": 2
}

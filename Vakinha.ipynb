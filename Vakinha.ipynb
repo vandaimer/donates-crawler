{
 "cells": [
  {
   "cell_type": "code",
   "execution_count": 75,
   "metadata": {},
   "outputs": [],
   "source": [
    "import math\n",
    "import matplotlib.pyplot as plt\n",
    "import pandas as pd\n",
    "\n",
    "%matplotlib inline\n",
    "MINIMUM_DONATE = 25\n",
    "df = pd.read_json('src/vakinha_2019-07-21T20-12-57.json')"
   ]
  },
  {
   "cell_type": "markdown",
   "metadata": {},
   "source": [
    "# Number of vakinhas before clean the data"
   ]
  },
  {
   "cell_type": "code",
   "execution_count": 76,
   "metadata": {},
   "outputs": [
    {
     "data": {
      "text/plain": [
       "20"
      ]
     },
     "execution_count": 76,
     "metadata": {},
     "output_type": "execute_result"
    }
   ],
   "source": [
    "len(df)"
   ]
  },
  {
   "cell_type": "code",
   "execution_count": 77,
   "metadata": {},
   "outputs": [],
   "source": [
    "def clean_price_data(value):\n",
    "    value = value.replace(',00', '')\n",
    "    value = value.replace('R$', '')\n",
    "    value = value.replace('.', '')\n",
    "    value = value.replace(',', '.')\n",
    "    return float(value)\n",
    "\n",
    "df['collected'] = df['collected'].apply(lambda value: clean_price_data(value))\n",
    "df['goal'] = df['goal'].apply(lambda value: clean_price_data(value))"
   ]
  },
  {
   "cell_type": "code",
   "execution_count": 78,
   "metadata": {},
   "outputs": [],
   "source": [
    "df['different'] = df.apply(lambda row: row.goal - row.collected, axis=1)\n",
    "df['percentage_goal'] = df.apply(lambda row: ((row.collected * 100) / row.goal), axis=1)"
   ]
  },
  {
   "cell_type": "markdown",
   "metadata": {},
   "source": [
    "# Filter vakinhas that did not reach the goal"
   ]
  },
  {
   "cell_type": "code",
   "execution_count": 79,
   "metadata": {},
   "outputs": [],
   "source": [
    "df = df[df.percentage_goal < 100]"
   ]
  },
  {
   "cell_type": "markdown",
   "metadata": {},
   "source": [
    "# Order the vakinhas by the percentage goal closer than 100%"
   ]
  },
  {
   "cell_type": "code",
   "execution_count": 80,
   "metadata": {},
   "outputs": [
    {
     "data": {
      "text/html": [
       "<div>\n",
       "<style scoped>\n",
       "    .dataframe tbody tr th:only-of-type {\n",
       "        vertical-align: middle;\n",
       "    }\n",
       "\n",
       "    .dataframe tbody tr th {\n",
       "        vertical-align: top;\n",
       "    }\n",
       "\n",
       "    .dataframe thead th {\n",
       "        text-align: right;\n",
       "    }\n",
       "</style>\n",
       "<table border=\"1\" class=\"dataframe\">\n",
       "  <thead>\n",
       "    <tr style=\"text-align: right;\">\n",
       "      <th></th>\n",
       "      <th>collected</th>\n",
       "      <th>created_at</th>\n",
       "      <th>end_at</th>\n",
       "      <th>goal</th>\n",
       "      <th>id</th>\n",
       "      <th>link</th>\n",
       "      <th>title</th>\n",
       "      <th>different</th>\n",
       "      <th>percentage_goal</th>\n",
       "    </tr>\n",
       "  </thead>\n",
       "  <tbody>\n",
       "    <tr>\n",
       "      <th>14</th>\n",
       "      <td>265.00</td>\n",
       "      <td>2019-11-07</td>\n",
       "      <td>2019-07-31</td>\n",
       "      <td>300.00</td>\n",
       "      <td>638955</td>\n",
       "      <td>http://vaka.me/638955</td>\n",
       "      <td>Cirurgia Do Milagre</td>\n",
       "      <td>35.00</td>\n",
       "      <td>88.333333</td>\n",
       "    </tr>\n",
       "    <tr>\n",
       "      <th>3</th>\n",
       "      <td>100.00</td>\n",
       "      <td>2019-07-17</td>\n",
       "      <td>2019-10-16</td>\n",
       "      <td>250.22</td>\n",
       "      <td>645416</td>\n",
       "      <td>http://vaka.me/645416</td>\n",
       "      <td>Ajude A Raquel á Comprar...</td>\n",
       "      <td>150.22</td>\n",
       "      <td>39.964831</td>\n",
       "    </tr>\n",
       "    <tr>\n",
       "      <th>1</th>\n",
       "      <td>1807.58</td>\n",
       "      <td>2019-07-19</td>\n",
       "      <td>2019-07-26</td>\n",
       "      <td>5000.00</td>\n",
       "      <td>646842</td>\n",
       "      <td>http://vaka.me/646842</td>\n",
       "      <td>Ajudar O Elvis A Sair Da...</td>\n",
       "      <td>3192.42</td>\n",
       "      <td>36.151600</td>\n",
       "    </tr>\n",
       "    <tr>\n",
       "      <th>11</th>\n",
       "      <td>675.00</td>\n",
       "      <td>2019-12-07</td>\n",
       "      <td>2019-08-31</td>\n",
       "      <td>2300.00</td>\n",
       "      <td>640480</td>\n",
       "      <td>http://vaka.me/640480</td>\n",
       "      <td>Cirurgia Da Tapioca</td>\n",
       "      <td>1625.00</td>\n",
       "      <td>29.347826</td>\n",
       "    </tr>\n",
       "    <tr>\n",
       "      <th>12</th>\n",
       "      <td>180.00</td>\n",
       "      <td>2019-12-07</td>\n",
       "      <td>2019-12-08</td>\n",
       "      <td>723.00</td>\n",
       "      <td>639962</td>\n",
       "      <td>http://vaka.me/639962</td>\n",
       "      <td>Vakinha Para Mujica</td>\n",
       "      <td>543.00</td>\n",
       "      <td>24.896266</td>\n",
       "    </tr>\n",
       "  </tbody>\n",
       "</table>\n",
       "</div>"
      ],
      "text/plain": [
       "    collected created_at     end_at     goal      id                   link  \\\n",
       "14     265.00 2019-11-07 2019-07-31   300.00  638955  http://vaka.me/638955   \n",
       "3      100.00 2019-07-17 2019-10-16   250.22  645416  http://vaka.me/645416   \n",
       "1     1807.58 2019-07-19 2019-07-26  5000.00  646842  http://vaka.me/646842   \n",
       "11     675.00 2019-12-07 2019-08-31  2300.00  640480  http://vaka.me/640480   \n",
       "12     180.00 2019-12-07 2019-12-08   723.00  639962  http://vaka.me/639962   \n",
       "\n",
       "                          title  different  percentage_goal  \n",
       "14         Cirurgia Do Milagre       35.00        88.333333  \n",
       "3   Ajude A Raquel á Comprar...     150.22        39.964831  \n",
       "1   Ajudar O Elvis A Sair Da...    3192.42        36.151600  \n",
       "11          Cirurgia Da Tapioca    1625.00        29.347826  \n",
       "12          Vakinha Para Mujica     543.00        24.896266  "
      ]
     },
     "execution_count": 80,
     "metadata": {},
     "output_type": "execute_result"
    }
   ],
   "source": [
    "df_sorted =  df.copy()\n",
    "df_sorted = df_sort.sort_values(by=['percentage_goal'], ascending=False)\n",
    "df_sorted.head()"
   ]
  },
  {
   "cell_type": "markdown",
   "metadata": {},
   "source": [
    "# How many people need to help to reach the goal\n",
    "**number_of_people** is the max of people are needed to finish that Vakinha and reach the goal"
   ]
  },
  {
   "cell_type": "code",
   "execution_count": 81,
   "metadata": {},
   "outputs": [],
   "source": [
    "df['number_of_people'] = df.apply(lambda row: math.ceil(row.different / MINIMUM_DONATE), axis=1)"
   ]
  }
 ],
 "metadata": {
  "kernelspec": {
   "display_name": "Python 3",
   "language": "python",
   "name": "python3"
  },
  "language_info": {
   "codemirror_mode": {
    "name": "ipython",
    "version": 3
   },
   "file_extension": ".py",
   "mimetype": "text/x-python",
   "name": "python",
   "nbconvert_exporter": "python",
   "pygments_lexer": "ipython3",
   "version": "3.7.3"
  }
 },
 "nbformat": 4,
 "nbformat_minor": 2
}
